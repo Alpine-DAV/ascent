{
 "cells": [
  {
   "cell_type": "markdown",
   "metadata": {},
   "source": [
    "## Connect\n",
    "Use the `%connect` magic to find your Ascent instance and connect to it."
   ]
  },
  {
   "cell_type": "code",
   "execution_count": null,
   "metadata": {},
   "outputs": [],
   "source": [
    "%connect"
   ]
  },
  {
   "cell_type": "markdown",
   "metadata": {},
   "source": [
    "## Specify Actions\n",
    "Specify your actions using a <tt>**yaml**</tt> or <tt>**json**</tt> string or any other method permitted by the Ascent Python API."
   ]
  },
  {
   "cell_type": "code",
   "execution_count": null,
   "metadata": {},
   "outputs": [],
   "source": [
    "yaml = \"\"\"\n",
    "\n",
    "- \n",
    "  action: \"add_scenes\"\n",
    "  scenes: \n",
    "    s1: \n",
    "      plots: \n",
    "        p1: \n",
    "          type: \"volume\"\n",
    "          field: \"energy\"\n",
    "          color_table:\n",
    "            name: \"cool to warm\"\n",
    "            control_points:\n",
    "              -\n",
    "                type: \"alpha\"\n",
    "                position: 0\n",
    "                alpha: .3\n",
    "              -\n",
    "                type: \"alpha\"\n",
    "                position: 1\n",
    "                alpha: 1\n",
    "      renders:\n",
    "        r1:\n",
    "          image_width: \"1024\"\n",
    "          image_height: \"1024\"\n",
    "          bg_color: [1,1,1]\n",
    "          fg_color: [0,0,0]\n",
    "- \n",
    "  action: \"execute\"\n",
    "- \n",
    "  action: \"reset\"\n",
    "\n",
    "\"\"\"\n",
    "generated = conduit.Generator(yaml, \"yaml\")\n",
    "actions = conduit.Node()\n",
    "generated.walk(actions)"
   ]
  },
  {
   "cell_type": "markdown",
   "metadata": {},
   "source": [
    "## Execute Actions\n",
    "Use the builtin `jupyter_ascent` ascent instance to execute your actions for compatability with widgets (below) or create your own ascent instance. Note that once you are connected you can use tab completion to find variables and functions in your namespace (e.g. `jupyter_ascent`, `display_images`)"
   ]
  },
  {
   "cell_type": "code",
   "execution_count": null,
   "metadata": {},
   "outputs": [],
   "source": [
    "jupyter_ascent.execute(actions)"
   ]
  },
  {
   "cell_type": "markdown",
   "metadata": {},
   "source": [
    "## Display Images\n",
    "Display all they images you've generated with the builtin `display_images` function."
   ]
  },
  {
   "cell_type": "code",
   "execution_count": null,
   "metadata": {},
   "outputs": [],
   "source": [
    "# Get info about the generated images from Ascent\n",
    "info = conduit.Node()\n",
    "jupyter_ascent.info(info)\n",
    "\n",
    "# Display the images specified in info\n",
    "display_images(info)"
   ]
  },
  {
   "cell_type": "markdown",
   "metadata": {},
   "source": [
    "## The Trackball Widget\n",
    "Use builtin Jupyter widgets to interact with your images. The trackball widget lets you rotate your image by dragging the control cube. You can also move with around with WASD and the provided buttons. Finally you can advance the simulation to see the next image."
   ]
  },
  {
   "cell_type": "code",
   "execution_count": null,
   "metadata": {},
   "outputs": [],
   "source": [
    "%trackball"
   ]
  },
  {
   "cell_type": "code",
   "execution_count": null,
   "metadata": {},
   "outputs": [],
   "source": []
  }
 ],
 "metadata": {
  "kernelspec": {
   "display_name": "Ascent Bridge",
   "language": "python",
   "name": "ascent_jupyter_bridge"
  },
  "language_info": {
   "codemirror_mode": {
    "name": "ipython",
    "version": 3
   },
   "file_extension": ".py",
   "mimetype": "text/x-python",
   "name": "python",
   "nbconvert_exporter": "python",
   "pygments_lexer": "ipython3",
   "version": "3.6.3"
  }
 },
 "nbformat": 4,
 "nbformat_minor": 2
}
