{
 "cells": [
  {
   "cell_type": "code",
   "execution_count": null,
   "metadata": {},
   "outputs": [],
   "source": [
    "HTML('''<script>\n",
    "code_show=true; \n",
    "function code_toggle() {\n",
    " if (code_show){\n",
    " $('div.input').hide();\n",
    " } else {\n",
    " $('div.input').show();\n",
    " }\n",
    " code_show = !code_show\n",
    "} \n",
    "$( document ).ready(code_toggle);\n",
    "</script>\n",
    "<form action=\"javascript:code_toggle()\"><input type=\"submit\" value=\"Click here to toggle on/off the raw code.\"></form>''')"
   ]
  },
  {
   "cell_type": "code",
   "execution_count": null,
   "metadata": {},
   "outputs": [],
   "source": [
    "import ipywidgets as widgets\n",
    "from IPython.display import display\n",
    "\n",
    "def cb(elem):\n",
    "    print(\"hi\")\n",
    "button = widgets.Button(description=\"Connect\")\n",
    "button.on_click(cb)\n",
    "display(button)"
   ]
  },
  {
   "cell_type": "code",
   "execution_count": null,
   "metadata": {
    "scrolled": true
   },
   "outputs": [],
   "source": [
    "!pip install pandas"
   ]
  },
  {
   "cell_type": "code",
   "execution_count": null,
   "metadata": {},
   "outputs": [],
   "source": [
    "%connect"
   ]
  },
  {
   "cell_type": "code",
   "execution_count": null,
   "metadata": {
    "scrolled": true
   },
   "outputs": [],
   "source": [
    "import ipywidgets as widgets\n",
    "from IPython.display import display\n",
    "\n",
    "def cb(elem):\n",
    "    print(\"hi\")\n",
    "button = widgets.Button(description=\"Connect\")\n",
    "button.on_click(cb)\n",
    "display(button)"
   ]
  },
  {
   "cell_type": "code",
   "execution_count": null,
   "metadata": {},
   "outputs": [],
   "source": [
    "%disconnect"
   ]
  },
  {
   "cell_type": "code",
   "execution_count": null,
   "metadata": {},
   "outputs": [],
   "source": []
  },
  {
   "cell_type": "code",
   "execution_count": 2,
   "metadata": {},
   "outputs": [
    {
     "data": {
      "application/vnd.jupyter.widget-view+json": {
       "model_id": "bc5907895b9e40238baa4265d2fcb55b",
       "version_major": 2,
       "version_minor": 0
      },
      "text/plain": [
       "Text(value='', description='Domain to ping')"
      ]
     },
     "metadata": {},
     "output_type": "display_data"
    },
    {
     "data": {
      "image/png": "[encoded data removed]",
      "text/plain": [
       "<Figure size 432x288 with 1 Axes>"
      ]
     },
     "metadata": {},
     "output_type": "display_data"
    },
    {
     "data": {
      "application/vnd.jupyter.widget-view+json": {
       "model_id": "fd9c80117b6a434a8e34a9c170b629df",
       "version_major": 2,
       "version_minor": 0
      },
      "text/plain": [
       "HBox()"
      ]
     },
     "metadata": {},
     "output_type": "display_data"
    },
    {
     "name": "stdout",
     "output_type": "stream",
     "text": [
      "Domain gave error on pinging\n"
     ]
    },
    {
     "ename": "AttributeError",
     "evalue": "'list' object has no attribute 'astype'",
     "output_type": "error",
     "traceback": [
      "\u001b[0;31m---------------------------------------------------------------------------\u001b[0m",
      "\u001b[0;31mAttributeError\u001b[0m                            Traceback (most recent call last)",
      "\u001b[0;32m<ipython-input-2-ac3e127fc047>\u001b[0m in \u001b[0;36mhandle_submit\u001b[0;34m(sender)\u001b[0m\n\u001b[1;32m     40\u001b[0m          \u001b[0;31m# rebuild plot based on ping result\u001b[0m\u001b[0;34m\u001b[0m\u001b[0;34m\u001b[0m\u001b[0m\n\u001b[1;32m     41\u001b[0m         \u001b[0mdata\u001b[0m \u001b[0;34m=\u001b[0m \u001b[0mhits\u001b[0m\u001b[0;34m\u001b[0m\u001b[0m\n\u001b[0;32m---> 42\u001b[0;31m         \u001b[0mdata\u001b[0m \u001b[0;34m=\u001b[0m \u001b[0mdata\u001b[0m\u001b[0;34m.\u001b[0m\u001b[0mastype\u001b[0m\u001b[0;34m(\u001b[0m\u001b[0mfloat\u001b[0m\u001b[0;34m)\u001b[0m\u001b[0;34m\u001b[0m\u001b[0m\n\u001b[0m\u001b[1;32m     43\u001b[0m         \u001b[0mplots\u001b[0m\u001b[0;34m,\u001b[0m \u001b[0;34m=\u001b[0m \u001b[0max\u001b[0m\u001b[0;34m.\u001b[0m\u001b[0mplot\u001b[0m\u001b[0;34m(\u001b[0m\u001b[0mx\u001b[0m\u001b[0;34m,\u001b[0m \u001b[0mdata\u001b[0m\u001b[0;34m,\u001b[0m \u001b[0mlabel\u001b[0m\u001b[0;34m=\u001b[0m\u001b[0mtext\u001b[0m\u001b[0;34m.\u001b[0m\u001b[0mvalue\u001b[0m\u001b[0;34m)\u001b[0m\u001b[0;34m\u001b[0m\u001b[0m\n\u001b[1;32m     44\u001b[0m         \u001b[0mplt\u001b[0m\u001b[0;34m.\u001b[0m\u001b[0mlegend\u001b[0m\u001b[0;34m(\u001b[0m\u001b[0;34m)\u001b[0m\u001b[0;34m\u001b[0m\u001b[0m\n",
      "\u001b[0;31mAttributeError\u001b[0m: 'list' object has no attribute 'astype'"
     ]
    },
    {
     "ename": "AttributeError",
     "evalue": "'list' object has no attribute 'astype'",
     "output_type": "error",
     "traceback": [
      "\u001b[0;31m---------------------------------------------------------------------------\u001b[0m",
      "\u001b[0;31mAttributeError\u001b[0m                            Traceback (most recent call last)",
      "\u001b[0;32m<ipython-input-2-ac3e127fc047>\u001b[0m in \u001b[0;36mhandle_submit\u001b[0;34m(sender)\u001b[0m\n\u001b[1;32m     40\u001b[0m          \u001b[0;31m# rebuild plot based on ping result\u001b[0m\u001b[0;34m\u001b[0m\u001b[0;34m\u001b[0m\u001b[0m\n\u001b[1;32m     41\u001b[0m         \u001b[0mdata\u001b[0m \u001b[0;34m=\u001b[0m \u001b[0mhits\u001b[0m\u001b[0;34m\u001b[0m\u001b[0m\n\u001b[0;32m---> 42\u001b[0;31m         \u001b[0mdata\u001b[0m \u001b[0;34m=\u001b[0m \u001b[0mdata\u001b[0m\u001b[0;34m.\u001b[0m\u001b[0mastype\u001b[0m\u001b[0;34m(\u001b[0m\u001b[0mfloat\u001b[0m\u001b[0;34m)\u001b[0m\u001b[0;34m\u001b[0m\u001b[0m\n\u001b[0m\u001b[1;32m     43\u001b[0m         \u001b[0mplots\u001b[0m\u001b[0;34m,\u001b[0m \u001b[0;34m=\u001b[0m \u001b[0max\u001b[0m\u001b[0;34m.\u001b[0m\u001b[0mplot\u001b[0m\u001b[0;34m(\u001b[0m\u001b[0mx\u001b[0m\u001b[0;34m,\u001b[0m \u001b[0mdata\u001b[0m\u001b[0;34m,\u001b[0m \u001b[0mlabel\u001b[0m\u001b[0;34m=\u001b[0m\u001b[0mtext\u001b[0m\u001b[0;34m.\u001b[0m\u001b[0mvalue\u001b[0m\u001b[0;34m)\u001b[0m\u001b[0;34m\u001b[0m\u001b[0m\n\u001b[1;32m     44\u001b[0m         \u001b[0mplt\u001b[0m\u001b[0;34m.\u001b[0m\u001b[0mlegend\u001b[0m\u001b[0;34m(\u001b[0m\u001b[0;34m)\u001b[0m\u001b[0;34m\u001b[0m\u001b[0m\n",
      "\u001b[0;31mAttributeError\u001b[0m: 'list' object has no attribute 'astype'"
     ]
    }
   ],
   "source": [
    "import pandas as pd\n",
    "import matplotlib.pyplot as plt\n",
    "from ipywidgets import *\n",
    "from IPython.display import display\n",
    "from IPython.html import widgets\n",
    "plt.style.use('ggplot')\n",
    " \n",
    "NUMBER_OF_PINGS = 4\n",
    " \n",
    "# displaying the text widget\n",
    "text = widgets.Text(description=\"Domain to ping\", width=200)\n",
    "display(text)\n",
    " \n",
    "# preparing the plot \n",
    "data = pd.DataFrame()\n",
    "x = range(1,NUMBER_OF_PINGS+1)\n",
    "plots = dict()\n",
    "fig, ax = plt.subplots()\n",
    "plt.xlabel('iterations')\n",
    "plt.ylabel('ms')\n",
    "plt.xticks(x)\n",
    "plt.show()\n",
    " \n",
    "# preparing a container to put in created checkbox per domain\n",
    "checkboxes = []\n",
    "cb_container = widgets.HBox()\n",
    "display(cb_container)\n",
    " \n",
    "# add button that updates the graph based on the checkboxes\n",
    "button = widgets.Button(description=\"Update the graph\")\n",
    " \n",
    "# function to deal with the added domain name\n",
    "def handle_submit(sender):\n",
    "    # a part of the magic inside python : pinging\n",
    "    res = !ping -c {NUMBER_OF_PINGS} {text.value}\n",
    "    hits = res.grep('64 bytes').fields(-2).s.replace(\"time=\",\"\").split()\n",
    "    if len(hits) == 0:\n",
    "        print (\"Domain gave error on pinging\")\n",
    "    else:\n",
    "         # rebuild plot based on ping result\n",
    "        data = hits\n",
    "        data = data.astype(float)\n",
    "        plots, = ax.plot(x, data, label=text.value)\n",
    "        plt.legend()\n",
    "        plt.draw()\n",
    "        # add a new checkbox for the new domain\n",
    "        checkboxes.append(widgets.Checkbox(description = text.value, value=True, width=90))\n",
    "        cb_container.children=[i for i in checkboxes]\n",
    "        if len(checkboxes) == 1:\n",
    "            display(button)\n",
    " \n",
    "# function to deal with the checkbox update button       \n",
    "def on_button_clicked(b):\n",
    "    for c in cb_container.children:\n",
    "        if not c.value:\n",
    "            plots.set_visible(False)\n",
    "        else:\n",
    "            plots.set_visible(True)\n",
    "    plt.legend()\n",
    "    plt.draw()\n",
    " \n",
    "button.on_click(on_button_clicked)\n",
    "text.on_submit(handle_submit)\n",
    "plt.show()\n",
    "from IPython.display import HTML"
   ]
  },
  {
   "cell_type": "code",
   "execution_count": null,
   "metadata": {},
   "outputs": [],
   "source": [
    "import ipywidgets as widgets\n",
    "\n",
    "out = widgets.Output(layout={'border': '1px solid black'})\n",
    "@out.capture(clear_output=True, wait=True)\n",
    "def handle_click(button):\n",
    "    kernel.disconnect()\n",
    "    kernel.connect(copy.deepcopy(kernel.last_used_backend))\n",
    "    kernel.do_execute(code, True)\n",
    "    widgs = []\n",
    "    widgs.append(button)\n",
    "    ipydisplay(widgets.VBox(widgs))\n",
    "    \n",
    "\n",
    "button = widgets.Button(description=\"Next Step\")\n",
    "button.on_click(handle_click)\n",
    "widgs = []\n",
    "widgs.append(button)\n",
    "ipydisplay(widgets.VBox(widgs))"
   ]
  },
  {
   "cell_type": "code",
   "execution_count": null,
   "metadata": {},
   "outputs": [],
   "source": [
    "import ipywidgets as widgets\n",
    "\n",
    "out = widgets.Output(layout={'border': '1px solid black'})\n",
    "\n",
    "def function_with_captured_output():\n",
    "    print('This goes into the output widget')\n",
    "    raise Exception('As does this')\n",
    "\n",
    "function_with_captured_output()"
   ]
  },
  {
   "cell_type": "code",
   "execution_count": 1,
   "metadata": {},
   "outputs": [],
   "source": [
    "from io import BytesIO\n",
    "from PIL import Image\n",
    "from numpy import ones, zeros\n",
    "import matplotlib\n",
    "from IPython.display import display, Image\n",
    "matplotlib.use('Agg')\n",
    "from matplotlib import pyplot as plt\n",
    "try:\n",
    "    from base64 import encodebytes, decodebytes\n",
    "except ImportError:\n",
    "    from base64 import encodestring as encodebytes, decodebytes"
   ]
  },
  {
   "cell_type": "code",
   "execution_count": 2,
   "metadata": {},
   "outputs": [],
   "source": [
    "from IPython.display import display, Image\n",
    "import ipywidgets as widgets\n",
    "from traitlets import Unicode, validate, Int"
   ]
  },
  {
   "cell_type": "code",
   "execution_count": 3,
   "metadata": {},
   "outputs": [],
   "source": [
    "def to_img_buffer(arr, fmt=\"JPEG\"):\n",
    "    im = plt.imshow(arr)\n",
    "    bio = BytesIO()\n",
    "    im.write_png(bio)\n",
    "    bio.seek(0)\n",
    "    return bio.read()\n",
    "\n",
    "def display_raw_png(data):\n",
    "    display(Image(data, format=\"png\"))"
   ]
  },
  {
   "cell_type": "code",
   "execution_count": 4,
   "metadata": {},
   "outputs": [],
   "source": [
    "import ipywidgets as widgets\n",
    "from traitlets import Unicode, validate, Int"
   ]
  },
  {
   "cell_type": "code",
   "execution_count": 5,
   "metadata": {},
   "outputs": [],
   "source": [
    "class TrackballWidget(widgets.DOMWidget):\n",
    "    _view_name = Unicode('TrackballView').tag(sync=True)\n",
    "    _view_module = Unicode('trackball').tag(sync=True)\n",
    "    _view_module_version = Unicode('0.0.0').tag(sync=True)\n",
    "    \n",
    "    width = Int(400).tag(sync=True)\n",
    "    height = Int(400).tag(sync=True)\n",
    "    image = Unicode('').tag(sync=True)\n",
    "\n",
    "    def __init__(self, *args, **kwargs):\n",
    "        widgets.DOMWidget.__init__(self, *args, **kwargs)\n",
    "        self.on_msg(self._handle_msg)\n",
    "        self.state = zeros([self.width, self.height])\n",
    "        self.state[20:30,:] = 1\n",
    "        self._update_image()\n",
    "        \n",
    "    def _update_image(self):\n",
    "        self.image = encodebytes(to_img_buffer(self.state));\n",
    "        \n",
    "    def _add_cube(self, x0, y0, x1, y1, val=1):\n",
    "        x_min, x_max = (x0,x1) if x0 < x1 else (x1,x0)\n",
    "        y_min, y_max = (y0,y1) if y0 < y1 else (y1,y0)\n",
    "        self.state[int(y_min):int(y_max), int(x_min):int(x_max)] = val\n",
    "\n",
    "    def _handle_msg(self, msg, *args, **kwargs):\n",
    "        content = msg[\"content\"][\"data\"][\"content\"]\n",
    "        print(content)\n",
    "        if \"move\" in content:\n",
    "            prev = content[\"move\"][\"prev\"]\n",
    "            cur = content[\"move\"][\"cur\"]\n",
    "            self._add_cube(prev[\"x\"], prev[\"y\"], cur[\"x\"], cur[\"y\"])\n",
    "            self._update_image()\n",
    "        elif 'keypress' in content:\n",
    "            code = content['code']\n",
    "            if code == 87: #W\n",
    "            elif code == 65: #A\n",
    "            elif code == 83: #S\n",
    "            elif code == 68: #D\n",
    "    \n",
    "    def on_key_press(self, content):\n",
    "        print(\"Key {c}\".format(c=content['code']))"
   ]
  },
  {
   "cell_type": "code",
   "execution_count": 21,
   "metadata": {},
   "outputs": [
    {
     "data": {
      "application/javascript": [
       "require.undef('trackball')\n",
       "\n",
       "define('trackball', ['@jupyter-widgets/base', ], function(widgets) {       \n",
       "    var trackball_view = widgets.DOMWidgetView.extend({\n",
       "        render: function() {\n",
       "            this.canvas = document.createElement('canvas');\n",
       "            this.context = this.canvas.getContext('2d');\n",
       "            this.canvas.width = this.model.get('width');\n",
       "            this.canvas.height = this.model.get('height');\n",
       "            this.canvas.tabIndex = 1;\n",
       "\n",
       "            let is_mouse_down = false;\n",
       "            let prev_coords = {x: 0, y: 0};\n",
       "            var that = this;\n",
       "            // send less update events\n",
       "            var update_delay = 2;\n",
       "            var updates = 0;\n",
       "            \n",
       "\n",
       "            function get_canvas_xy(e) {\n",
       "                let x = e.clientX;\n",
       "                let y = e.clientY;\n",
       "                let bound = that.canvas.getBoundingClientRect();\n",
       "\n",
       "                return {x: x-bound.left, y: y-bound.top};\n",
       "            }\n",
       "\n",
       "            this.canvas.addEventListener('mousedown', function(e) {\n",
       "                is_mouse_down = true;\n",
       "                prev_coords = get_canvas_xy(e);\n",
       "            });\n",
       "\n",
       "            this.canvas.addEventListener('mouseup', function(e) {\n",
       "                is_mouse_down = false;\n",
       "            });\n",
       "\n",
       "            this.canvas.addEventListener('mousemove', function(e) {\n",
       "                if (!is_mouse_down) { return; }\n",
       "                if (updates < update_delay) {\n",
       "                    updates++;\n",
       "                    return;\n",
       "                }\n",
       "                let coords = get_canvas_xy(e);\n",
       "                that.send({'move': {'cur': coords, 'prev': prev_coords}});\n",
       "                prev_coords = coords;\n",
       "                updates = 0;\n",
       "            });\n",
       "            \n",
       "            this.el.append(this.canvas);\n",
       "            this.model.on('change:image', this.update, this);\n",
       "            this.update();\n",
       "        },\n",
       "        update: function() {\n",
       "            let buffer = this.model.get('image');\n",
       "            var img = new Image;\n",
       "            img.src = \"data:image/png;base64,\" + buffer;\n",
       "            var that = this;\n",
       "            img.onload = function() {\n",
       "                that.context.clearRect(0, 0, that.canvas.width, that.canvas.height);\n",
       "                that.context.drawImage(img, 0, 0, that.canvas.width, that.canvas.width);\n",
       "            };\n",
       "        },\n",
       "        events: {\n",
       "            'keydown': 'keydown',\n",
       "            'click': 'click',\n",
       "        },\n",
       "        keydown: function(e) {\n",
       "            var code = e.keyCode || e.which;\n",
       "            this.send({event: 'keypress', code: code});\n",
       "        }\n",
       "    });\n",
       "        \n",
       "    return {TrackballView: trackball_view};\n",
       "})\n"
      ],
      "text/plain": [
       "<IPython.core.display.Javascript object>"
      ]
     },
     "metadata": {},
     "output_type": "display_data"
    }
   ],
   "source": [
    "%%javascript\n",
    "require.undef('trackball')\n",
    "\n",
    "define('trackball', ['@jupyter-widgets/base', ], function(widgets) {       \n",
    "    var trackball_view = widgets.DOMWidgetView.extend({\n",
    "        render: function() {\n",
    "            this.canvas = document.createElement('canvas');\n",
    "            this.context = this.canvas.getContext('2d');\n",
    "            this.canvas.width = this.model.get('width');\n",
    "            this.canvas.height = this.model.get('height');\n",
    "            this.canvas.tabIndex = 1;\n",
    "\n",
    "            let is_mouse_down = false;\n",
    "            let prev_coords = {x: 0, y: 0};\n",
    "            var that = this;\n",
    "            // send less update events\n",
    "            var update_delay = 2;\n",
    "            var updates = 0;\n",
    "            \n",
    "\n",
    "            function get_canvas_xy(e) {\n",
    "                let x = e.clientX;\n",
    "                let y = e.clientY;\n",
    "                let bound = that.canvas.getBoundingClientRect();\n",
    "\n",
    "                return {x: x-bound.left, y: y-bound.top};\n",
    "            }\n",
    "\n",
    "            this.canvas.addEventListener('mousedown', function(e) {\n",
    "                is_mouse_down = true;\n",
    "                prev_coords = get_canvas_xy(e);\n",
    "            });\n",
    "\n",
    "            this.canvas.addEventListener('mouseup', function(e) {\n",
    "                is_mouse_down = false;\n",
    "            });\n",
    "\n",
    "            this.canvas.addEventListener('mousemove', function(e) {\n",
    "                if (!is_mouse_down) { return; }\n",
    "                if (updates < update_delay) {\n",
    "                    updates++;\n",
    "                    return;\n",
    "                }\n",
    "                let coords = get_canvas_xy(e);\n",
    "                that.send({'move': {'cur': coords, 'prev': prev_coords}});\n",
    "                prev_coords = coords;\n",
    "                updates = 0;\n",
    "            });\n",
    "            \n",
    "            this.el.append(this.canvas);\n",
    "            this.model.on('change:image', this.update, this);\n",
    "            this.update();\n",
    "        },\n",
    "        update: function() {\n",
    "            let buffer = this.model.get('image');\n",
    "            var img = new Image;\n",
    "            img.src = \"data:image/png;base64,\" + buffer;\n",
    "            var that = this;\n",
    "            img.onload = function() {\n",
    "                that.context.clearRect(0, 0, that.canvas.width, that.canvas.height);\n",
    "                that.context.drawImage(img, 0, 0, that.canvas.width, that.canvas.width);\n",
    "            };\n",
    "        },\n",
    "        events: {\n",
    "            'keydown': 'keydown',\n",
    "        },\n",
    "        keydown: function(e) {\n",
    "            var code = e.keyCode || e.which;\n",
    "            this.send({event: 'keypress', code: code});\n",
    "        }\n",
    "    });\n",
    "        \n",
    "    return {TrackballView: trackball_view};\n",
    "})"
   ]
  },
  {
   "cell_type": "code",
   "execution_count": 22,
   "metadata": {},
   "outputs": [],
   "source": [
    "s = TrackballWidget()"
   ]
  },
  {
   "cell_type": "code",
   "execution_count": 23,
   "metadata": {
    "scrolled": false
   },
   "outputs": [
    {
     "data": {
      "application/vnd.jupyter.widget-view+json": {
       "model_id": "8fe4154ae8074d0a80bd6fbba754aa08",
       "version_major": 2,
       "version_minor": 0
      },
      "text/plain": [
       "TrackballWidget(image='iVBORw0KGgoAAAANSUhEUgAAAZAAAAGQCAYAAACAvzbMAAAABHNCSVQICAgIfAhkiAAABbJJREFU\\neJzt3bENw…"
      ]
     },
     "metadata": {},
     "output_type": "display_data"
    },
    {
     "name": "stdout",
     "output_type": "stream",
     "text": [
      "{'event': 'keypress', 'code': 68}\n",
      "{'event': 'keypress', 'code': 70}\n",
      "{'event': 'keypress', 'code': 68}\n",
      "{'event': 'keypress', 'code': 70}\n",
      "{'event': 'keypress', 'code': 68}\n",
      "{'event': 'keypress', 'code': 70}\n",
      "{'event': 'keypress', 'code': 39}\n",
      "{'event': 'keypress', 'code': 37}\n",
      "{'event': 'keypress', 'code': 38}\n",
      "{'event': 'keypress', 'code': 40}\n",
      "{'event': 'keypress', 'code': 40}\n",
      "{'event': 'keypress', 'code': 40}\n",
      "{'event': 'keypress', 'code': 40}\n",
      "{'event': 'keypress', 'code': 38}\n",
      "{'event': 'keypress', 'code': 40}\n",
      "{'event': 'keypress', 'code': 38}\n",
      "{'event': 'keypress', 'code': 40}\n",
      "{'event': 'keypress', 'code': 38}\n",
      "{'event': 'keypress', 'code': 40}\n",
      "{'event': 'keypress', 'code': 38}\n",
      "{'event': 'keypress', 'code': 40}\n",
      "{'move': {'cur': {'x': 71.39999389648438, 'y': 153.66668701171875}, 'prev': {'x': 74.39999389648438, 'y': 146.66668701171875}}}\n",
      "{'move': {'cur': {'x': 86.39999389648438, 'y': 223.66668701171875}, 'prev': {'x': 71.39999389648438, 'y': 153.66668701171875}}}\n",
      "{'move': {'cur': {'x': 113.39999389648438, 'y': 305.66668701171875}, 'prev': {'x': 86.39999389648438, 'y': 223.66668701171875}}}\n",
      "{'move': {'cur': {'x': 134.39999389648438, 'y': 342.66668701171875}, 'prev': {'x': 113.39999389648438, 'y': 305.66668701171875}}}\n",
      "{'event': 'keypress', 'code': 87}\n",
      "{'event': 'keypress', 'code': 65}\n",
      "{'event': 'keypress', 'code': 83}\n",
      "{'event': 'keypress', 'code': 68}\n"
     ]
    }
   ],
   "source": [
    "s"
   ]
  },
  {
   "cell_type": "code",
   "execution_count": 24,
   "metadata": {},
   "outputs": [
    {
     "name": "stdout",
     "output_type": "stream",
     "text": [
      "You don't have a custom.js file\n"
     ]
    }
   ],
   "source": [
    "import os.path\n",
    "from jupyter_core.paths import jupyter_config_dir\n",
    "\n",
    "jupyter_dir = jupyter_config_dir()\n",
    "custom_js_path = os.path.join(jupyter_dir, 'custom', 'custom.js')\n",
    "#  my custom js\n",
    "if os.path.isfile(custom_js_path):\n",
    "    with open(custom_js_path) as f:\n",
    "        print(f.read())\n",
    "else:\n",
    "    print(\"You don't have a custom.js file\")"
   ]
  },
  {
   "cell_type": "code",
   "execution_count": null,
   "metadata": {},
   "outputs": [],
   "source": []
  }
 ],
 "metadata": {
  "kernelspec": {
   "display_name": "Python 3",
   "language": "python",
   "name": "python3"
  },
  "language_info": {
   "codemirror_mode": {
    "name": "ipython",
    "version": 3
   },
   "file_extension": ".py",
   "mimetype": "text/x-python",
   "name": "python",
   "nbconvert_exporter": "python",
   "pygments_lexer": "ipython3",
   "version": "3.6.3"
  }
 },
 "nbformat": 4,
 "nbformat_minor": 2
}
