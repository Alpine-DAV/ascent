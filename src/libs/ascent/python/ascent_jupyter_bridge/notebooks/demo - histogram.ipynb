{
 "cells": [
  {
   "cell_type": "markdown",
   "metadata": {},
   "source": [
    "## Connect\n",
    "Use the `%connect` magic to find your Ascent instance and connect to it."
   ]
  },
  {
   "cell_type": "code",
   "execution_count": null,
   "metadata": {},
   "outputs": [],
   "source": [
    "%connect"
   ]
  },
  {
   "cell_type": "markdown",
   "metadata": {},
   "source": [
    "## Run the MPI Histogram from Demo 4\n",
    "You can run code in a jupyter cell just as you would in a python extract."
   ]
  },
  {
   "cell_type": "code",
   "execution_count": null,
   "metadata": {},
   "outputs": [],
   "source": [
    "import numpy as np\n",
    "from mpi4py import MPI\n",
    "\n",
    "# obtain a mpi4py mpi comm object\n",
    "comm = MPI.Comm.f2py(ascent_mpi_comm_id())\n",
    "\n",
    "# get this MPI task's published blueprint data\n",
    "mesh_data = ascent_data().child(0)\n",
    "\n",
    "# fetch the numpy array for the energy field values\n",
    "e_vals = mesh_data[\"fields/energy/values\"]\n",
    "\n",
    "# find the data extents of the energy field using mpi\n",
    "\n",
    "# first get local extents\n",
    "e_min, e_max = e_vals.min(), e_vals.max()\n",
    "\n",
    "# declare vars for reduce results\n",
    "e_min_all = np.zeros(1)\n",
    "e_max_all = np.zeros(1)\n",
    "\n",
    "# reduce to get global extents\n",
    "comm.Allreduce(e_min, e_min_all, op=MPI.MIN)\n",
    "comm.Allreduce(e_max, e_max_all, op=MPI.MAX)\n",
    "\n",
    "# compute bins on global extents\n",
    "bins = np.linspace(e_min_all, e_max_all)\n",
    "\n",
    "# get histogram counts for local data\n",
    "hist, bin_edges = np.histogram(e_vals, bins = bins)\n",
    "\n",
    "# declare var for reduce results\n",
    "hist_all = np.zeros_like(hist)\n",
    "\n",
    "# sum histogram counts with MPI to get final histogram\n",
    "comm.Allreduce(hist, hist_all, op=MPI.SUM)\n",
    "\n",
    "# print result on mpi task 0\n",
    "if comm.Get_rank() == 0:\n",
    "    print(\"\\nEnergy extents: {} {}\\n\".format(e_min_all[0], e_max_all[0]))\n",
    "    print(\"Histogram of Energy:\\n\")\n",
    "    print(\"Counts:\")\n",
    "    print(hist_all)\n",
    "    print(\"\\nBin Edges:\")\n",
    "    print(bin_edges)\n",
    "    print(\"\")"
   ]
  },
  {
   "cell_type": "markdown",
   "metadata": {},
   "source": [
    "## Display the Histogram using MatPlotLib\n",
    "You can use Python's scientific computing libraries (SciPy, MatPlotLib, Numpy, etc.) to analyze your data and see the output in Jupyter."
   ]
  },
  {
   "cell_type": "code",
   "execution_count": null,
   "metadata": {},
   "outputs": [],
   "source": [
    "from matplotlib import pyplot as plt\n",
    "\n",
    "plt.hist(bin_edges[2:-1], weights=hist_all[2:], bins=bin_edges[2:]) \n",
    "plt.title(\"Histogram of Energy\") \n",
    "plt.show()"
   ]
  }
 ],
 "metadata": {
  "kernelspec": {
   "display_name": "Ascent Bridge",
   "language": "python",
   "name": "ascent_jupyter_bridge"
  },
  "language_info": {
   "codemirror_mode": {
    "name": "ipython",
    "version": 3
   },
   "file_extension": ".py",
   "mimetype": "text/x-python",
   "name": "python",
   "nbconvert_exporter": "python",
   "pygments_lexer": "ipython3",
   "version": "3.6.3"
  }
 },
 "nbformat": 4,
 "nbformat_minor": 2
}
