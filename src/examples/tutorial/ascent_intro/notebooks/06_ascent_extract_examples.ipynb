{
 "cells": [
  {
   "cell_type": "markdown",
   "metadata": {},
   "source": [
    "# Capturing data with Extracts\n",
    "Extracts are the construct that allows users to capture and process data outside Ascent's pipeline infrastructure. Extract use cases include: Saving mesh data to HDF5 files, creating Cinema databases, and running custom Python analysis scripts. These examples outline how to use several of Ascent's extracts. See Ascent's [Extracts](https://ascent.readthedocs.io/en/latest/Actions/Extracts.html) docs for deeper details on Extracts."
   ]
  },
  {
   "cell_type": "code",
   "execution_count": null,
   "metadata": {},
   "outputs": [],
   "source": [
    "# ascent + conduit imports\n",
    "import conduit\n",
    "import conduit.blueprint\n",
    "import ascent\n",
    "\n",
    "import numpy as np\n",
    "\n",
    "# cinema jupyter widget\n",
    "import cinemasci.pynb\n",
    "\n",
    "# cleanup any old results\n",
    "!./cleanup.sh"
   ]
  },
  {
   "cell_type": "code",
   "execution_count": null,
   "metadata": {},
   "outputs": [],
   "source": [
    "# create example mesh using the conduit blueprint braid helper\n",
    "mesh = conduit.Node()\n",
    "conduit.blueprint.mesh.examples.braid(\"hexs\",\n",
    "                                      25,\n",
    "                                      25,\n",
    "                                      25,\n",
    "                                      mesh)"
   ]
  },
  {
   "cell_type": "markdown",
   "metadata": {},
   "source": [
    "## Relay Extract Example 1\n",
    "### Save input mesh and all fields to Blueprint HDF5 Files\n",
    "\n",
    "Related docs: [Relay Extract](https://ascent.readthedocs.io/en/latest/Actions/Extracts.html#relay)"
   ]
  },
  {
   "cell_type": "code",
   "execution_count": null,
   "metadata": {},
   "outputs": [],
   "source": [
    "# Use Ascent to export our mesh to blueprint flavored hdf5 files\n",
    "a = ascent.Ascent()\n",
    "a.open()\n",
    "\n",
    "# publish mesh to ascent\n",
    "a.publish(mesh);\n",
    "\n",
    "# setup actions\n",
    "actions = conduit.Node()\n",
    "add_act = actions.append()\n",
    "add_act[\"action\"] = \"add_extracts\"\n",
    "\n",
    "# add a relay extract that will write mesh data to \n",
    "# blueprint hdf5 files\n",
    "extracts = add_act[\"extracts\"]\n",
    "extracts[\"e1/type\"] = \"relay\"\n",
    "extracts[\"e1/params/path\"] = \"out_export_braid_all_fields\"\n",
    "extracts[\"e1/params/protocol\"] = \"blueprint/mesh/hdf5\"\n",
    "\n",
    "# print our full actions tree\n",
    "print(actions.to_yaml())\n",
    "\n",
    "# execute the actions\n",
    "a.execute(actions);\n",
    "\n",
    "# show details\n",
    "ascent.jupyter.AscentViewer(a).show()"
   ]
  },
  {
   "cell_type": "code",
   "execution_count": null,
   "metadata": {},
   "outputs": [],
   "source": [
    "# close ascent\n",
    "a.close()"
   ]
  },
  {
   "cell_type": "code",
   "execution_count": null,
   "metadata": {},
   "outputs": [],
   "source": [
    "# list the output root file\n",
    "!ls out_export_braid_all_fields*.root"
   ]
  },
  {
   "cell_type": "code",
   "execution_count": null,
   "metadata": {
    "scrolled": true
   },
   "outputs": [],
   "source": [
    "# VisIt 2.13 or newer, when built with Conduit support, can visualize meshes from these files.\n",
    "# Look at the Blueprint HDF5 extract with VisIt\n",
    "# !visit -o out_export_braid_all_fields.cycle_000100.root"
   ]
  },
  {
   "cell_type": "markdown",
   "metadata": {},
   "source": [
    "## Relay Extract Example 2\n",
    "### Save input mesh and one selected field to Blueprint HDF5 Files\n",
    "\n",
    "Related docs: [Relay Extract](https://ascent.readthedocs.io/en/latest/Actions/Extracts.html#relay)"
   ]
  },
  {
   "cell_type": "code",
   "execution_count": null,
   "metadata": {},
   "outputs": [],
   "source": [
    "# Use Ascent to export our mesh to blueprint flavored hdf5 files\n",
    "a = ascent.Ascent()\n",
    "a.open()\n",
    "\n",
    "# publish mesh to ascent\n",
    "a.publish(mesh);\n",
    "\n",
    "# setup actions\n",
    "actions = conduit.Node()\n",
    "add_act = actions.append()\n",
    "add_act[\"action\"] = \"add_extracts\"\n",
    "\n",
    "# add a relay extract that will write mesh data to \n",
    "# blueprint hdf5 files\n",
    "extracts = add_act[\"extracts\"]\n",
    "extracts[\"e1/type\"] = \"relay\"\n",
    "extracts[\"e1/params/path\"] = \"out_export_braid_one_field\"\n",
    "extracts[\"e1/params/protocol\"] = \"blueprint/mesh/hdf5\"\n",
    "\n",
    "#\n",
    "# add fields parameter to limit the export to the just \n",
    "# the `braid` field\n",
    "#\n",
    "extracts[\"e1/params/fields\"].append().set(\"braid\")\n",
    "\n",
    "# print our full actions tree\n",
    "print(actions.to_yaml())\n",
    "\n",
    "# execute the actions\n",
    "a.execute(actions);\n",
    "\n",
    "# show details\n",
    "ascent.jupyter.AscentViewer(a).show()"
   ]
  },
  {
   "cell_type": "code",
   "execution_count": null,
   "metadata": {},
   "outputs": [],
   "source": [
    "# close ascent\n",
    "a.close()"
   ]
  },
  {
   "cell_type": "code",
   "execution_count": null,
   "metadata": {},
   "outputs": [],
   "source": [
    "# list the output root file\n",
    "!ls out_export_braid_one_field*.root"
   ]
  },
  {
   "cell_type": "code",
   "execution_count": null,
   "metadata": {},
   "outputs": [],
   "source": [
    "# Look at the Blueprint HDF5 extract with VisIt\n",
    "# !visit -o out_export_braid_one_field.cycle_000100.root"
   ]
  },
  {
   "cell_type": "markdown",
   "metadata": {},
   "source": [
    "## Relay Extract Example 3:\n",
    "### Save contour results to Blueprint HDF5 Files\n",
    "\n",
    "Related docs: [Relay Extract](https://ascent.readthedocs.io/en/latest/Actions/Extracts.html#relay)"
   ]
  },
  {
   "cell_type": "code",
   "execution_count": null,
   "metadata": {},
   "outputs": [],
   "source": [
    "# Use Ascent to export contours to blueprint flavored hdf5 files\n",
    "a = ascent.Ascent()\n",
    "a.open()\n",
    "\n",
    "# publish mesh to ascent\n",
    "a.publish(mesh);\n",
    "\n",
    "# setup actions\n",
    "actions = conduit.Node()\n",
    "add_act = actions.append();\n",
    "add_act[\"action\"] = \"add_pipelines\"\n",
    "pipelines = add_act[\"pipelines\"]\n",
    "\n",
    "# create a  pipeline (pl1) with a contour filter (f1)\n",
    "pipelines[\"pl1/f1/type\"] = \"contour\"\n",
    "\n",
    "# extract contours where braid variable\n",
    "# equals 0.2 and 0.4\n",
    "contour_params = pipelines[\"pl1/f1/params\"]\n",
    "contour_params[\"field\"] = \"braid\"\n",
    "iso_vals = np.array([0.2, 0.4],dtype=np.float32)\n",
    "contour_params[\"iso_values\"].set(iso_vals)\n",
    "\n",
    "# add an extract to capture the pipeline result\n",
    "add_act2 = actions.append()\n",
    "add_act2[\"action\"] = \"add_extracts\"\n",
    "extracts = add_act2[\"extracts\"]\n",
    "\n",
    "# add an relay extract (e1) to export the pipeline result\n",
    "# (pl1) to blueprint hdf5 files\n",
    "extracts[\"e1/type\"] = \"relay\"\n",
    "extracts[\"e1/pipeline\"]  = \"pl1\"\n",
    "extracts[\"e1/params/path\"] = \"out_extract_braid_contour\"\n",
    "extracts[\"e1/params/protocol\"] = \"blueprint/mesh/hdf5\"\n",
    "\n",
    "# print our full actions tree\n",
    "print(actions.to_yaml())\n",
    "\n",
    "# execute the actions\n",
    "a.execute(actions);\n",
    "\n",
    "# show details\n",
    "ascent.jupyter.AscentViewer(a).show()"
   ]
  },
  {
   "cell_type": "code",
   "execution_count": null,
   "metadata": {},
   "outputs": [],
   "source": [
    "# close ascent\n",
    "a.close()"
   ]
  },
  {
   "cell_type": "code",
   "execution_count": null,
   "metadata": {},
   "outputs": [],
   "source": [
    "# list the output root file\n",
    "!ls out_extract_braid_contour*.root"
   ]
  },
  {
   "cell_type": "code",
   "execution_count": null,
   "metadata": {},
   "outputs": [],
   "source": [
    "# Look at the Blueprint HDF5 extract with VisIt\n",
    "# !visit -o out_extract_braid_contour.cycle_000100.root"
   ]
  },
  {
   "cell_type": "markdown",
   "metadata": {},
   "source": [
    "## Cinema Extract Example\n",
    "### Create a Cinema Image Database with several renders of the contour results\n",
    "Related docs: [Cinema Databases](https://ascent.readthedocs.io/en/latest/Actions/Scenes.html#cinema-databases)"
   ]
  },
  {
   "cell_type": "code",
   "execution_count": null,
   "metadata": {},
   "outputs": [],
   "source": [
    "a = ascent.Ascent()\n",
    "a.open()\n",
    "\n",
    "# publish mesh to ascent\n",
    "a.publish(mesh);\n",
    "\n",
    "# setup actions\n",
    "actions = conduit.Node()\n",
    "add_act = actions.append();\n",
    "add_act[\"action\"] = \"add_pipelines\"\n",
    "pipelines = add_act[\"pipelines\"]\n",
    "\n",
    "# create a  pipeline (pl1) with a contour filter (f1)\n",
    "pipelines[\"pl1/f1/type\"] = \"contour\"\n",
    "\n",
    "# extract contours where braid variable\n",
    "# equals 0.2 and 0.4\n",
    "contour_params = pipelines[\"pl1/f1/params\"]\n",
    "contour_params[\"field\"] = \"braid\"\n",
    "iso_vals = np.array([0.2, 0.4],dtype=np.float32)\n",
    "contour_params[\"iso_values\"].set(iso_vals)\n",
    "\n",
    "# declare a scene to render several angles of\n",
    "# the pipeline result (pl1) to a Cinema Image\n",
    "# database\n",
    "\n",
    "add_act2 = actions.append()\n",
    "add_act2[\"action\"] = \"add_scenes\"\n",
    "scenes = add_act2[\"scenes\"]\n",
    "\n",
    "scenes[\"s1/plots/p1/type\"] = \"pseudocolor\"\n",
    "scenes[\"s1/plots/p1/pipeline\"] = \"pl1\"\n",
    "scenes[\"s1/plots/p1/field\"] = \"braid\"\n",
    "# select cinema path\n",
    "scenes[\"s1/renders/r1/type\"] = \"cinema\"\n",
    "# use 5 renders in phi\n",
    "scenes[\"s1/renders/r1/phi\"] = 5\n",
    "# and 5 renders in theta\n",
    "scenes[\"s1/renders/r1/theta\"] = 5\n",
    "# setup to output database to:\n",
    "#  cinema_databases/out_extract_cinema_contour\n",
    "# you can view using a webserver to open:\n",
    "#  cinema_databases/out_extract_cinema_contour/index.html\n",
    "scenes[\"s1/renders/r1/db_name\"] = \"out_extract_cinema_contour\"\n",
    "\n",
    "# print our full actions tree\n",
    "print(actions.to_yaml())\n",
    "\n",
    "# execute the actions\n",
    "a.execute(actions);\n",
    "\n",
    "# show the results\n",
    "ascent.jupyter.AscentViewer(a).show()"
   ]
  },
  {
   "cell_type": "code",
   "execution_count": null,
   "metadata": {},
   "outputs": [],
   "source": [
    "# view the cinema database using the Cinema Jupyter viewer \n",
    "\n",
    "# get the full cinema db path from ascent's info\n",
    "info = conduit.Node()\n",
    "a.info(info)\n",
    "cinema_db_path = info[\"extracts\"][0][\"path\"]\n",
    "\n",
    "# create a Cinema Viewer Object\n",
    "cinema_viewer = cinemasci.pynb.CinemaViewer()\n",
    "# load the cinema db we created\n",
    "cinema_viewer.load(cinema_db_path)"
   ]
  },
  {
   "cell_type": "code",
   "execution_count": null,
   "metadata": {},
   "outputs": [],
   "source": [
    "# close ascent\n",
    "a.close()"
   ]
  },
  {
   "cell_type": "markdown",
   "metadata": {},
   "source": [
    "## Python Extract Example\n",
    "### Run custom python analysis script inside Ascent's Python environment\n",
    "Related docs: [Python Extract](https://ascent.readthedocs.io/en/latest/Actions/Extracts.html#python)\n",
    "\n",
    "#### First execuate a simple histogram calculation in the current Python interpreter"
   ]
  },
  {
   "cell_type": "code",
   "execution_count": null,
   "metadata": {},
   "outputs": [],
   "source": [
    "#\n",
    "# Ascent provides an embedded Python environment to support\n",
    "# custom analysis. When using MPI this environment supports \n",
    "# distributed-memory processing with one Python interpreter \n",
    "# per MPI task.\n",
    "#\n",
    "# You can use this environment in Ascent's Python Extract.\n",
    "#\n",
    "# In the case you are already using Ascent from Python this may \n",
    "# appear a bit odd. Yes, this feature is most useful to \n",
    "# provide a Python analysis environment to simulation codes written \n",
    "# in other lanauges (C++, C, or Fortran). Reguardless, we can \n",
    "# still access it and leverage it from Python.\n",
    "#\n",
    "#\n",
    "# For more detials about the Python extract, see:\n",
    "# https://ascent.readthedocs.io/en/latest/Actions/Extracts.html#python\n",
    "#\n",
    "\n",
    "#\n",
    "# First, we a histogram calcuation directly in our current \n",
    "# Python interpreter and then we will compare results\n",
    "# with running the same code via a Python Extract.\n",
    "#\n",
    "\n",
    "# fetch the numpy array for the braid field values\n",
    "e_vals = mesh[\"fields/braid/values\"]\n",
    "\n",
    "# find the data extents of the braid field\n",
    "e_min, e_max = e_vals.min(), e_vals.max()\n",
    "\n",
    "# compute bins on extents\n",
    "bins = np.linspace(e_min, e_max)\n",
    "\n",
    "# get histogram counts\n",
    "hist, bin_edges = np.histogram(e_vals, bins = bins)\n",
    "\n",
    "print(\"\\nEnergy extents: {} {}\\n\".format(e_min, e_max))\n",
    "print(\"Histogram of Energy:\\n\")\n",
    "print(\"Counts:\")\n",
    "print(hist)\n",
    "print(\"\\nBin Edges:\")\n",
    "print(bin_edges)\n",
    "print(\"\")\n",
    "\n",
    "# save our results to a yaml file\n",
    "hist_results = conduit.Node()\n",
    "hist_results[\"hist\"] = hist\n",
    "hist_results[\"bin_edges\"] = bin_edges\n",
    "hist_results.save(\"out_hist_results.yaml\",\"yaml\")"
   ]
  },
  {
   "cell_type": "code",
   "execution_count": null,
   "metadata": {},
   "outputs": [],
   "source": [
    "!ls out_hist_results.yaml\n",
    "!cat out_hist_results.yaml"
   ]
  },
  {
   "cell_type": "markdown",
   "metadata": {},
   "source": [
    "#### Next, use a Python Extract to do the same histogram calculation.\n",
    "\n",
    "#### Here is the Extract script we will execute:\n",
    "```python\n",
    "import numpy as np\n",
    "\n",
    "# get published blueprint data from the ascent \n",
    "\n",
    "# python extract always consumes the multi-domain\n",
    "# flavor of the mesh blueprint, since we have a \n",
    "# single domain mesh, the data we want is the first child\n",
    "\n",
    "mesh = ascent_data().child(0)\n",
    "\n",
    "# fetch the numpy array for the braid field values\n",
    "e_vals = mesh[\"fields/braid/values\"]\n",
    "\n",
    "# find the data extents of the braid field\n",
    "e_min, e_max = e_vals.min(), e_vals.max()\n",
    "\n",
    "# compute bins on extents\n",
    "bins = np.linspace(e_min, e_max)\n",
    "\n",
    "# get histogram counts\n",
    "hist, bin_edges = np.histogram(e_vals, bins = bins)\n",
    "\n",
    "print(\"\\nEnergy extents: {} {}\\n\".format(e_min, e_max))\n",
    "print(\"Histogram of Energy:\\n\")\n",
    "print(\"Counts:\")\n",
    "print(hist)\n",
    "print(\"\\nBin Edges:\")\n",
    "print(bin_edges)\n",
    "print(\"\")\n",
    "\n",
    "# save our results to a yaml file\n",
    "hist_results = conduit.Node()\n",
    "hist_results[\"hist\"] = hist\n",
    "hist_results[\"bin_edges\"] = bin_edges\n",
    "hist_results.save(\"out_py_extract_hist_results.yaml\",\"yaml\")\n",
    "```"
   ]
  },
  {
   "cell_type": "code",
   "execution_count": null,
   "metadata": {},
   "outputs": [],
   "source": [
    "# Use Ascent to execute the histogram script.\n",
    "a = ascent.Ascent()\n",
    "ascent_opts = conduit.Node()\n",
    "ascent_opts[\"exceptions\"] = \"forward\"\n",
    "a.open(ascent_opts)\n",
    "\n",
    "# publish mesh to ascent\n",
    "a.publish(mesh);\n",
    "\n",
    "# setup actions\n",
    "actions = conduit.Node()\n",
    "add_act = actions.append()\n",
    "add_act[\"action\"] = \"add_extracts\"\n",
    "\n",
    "# add an extract to execute custom python code\n",
    "# in `ascent_tutorial_python_extract_braid_histogram.py`\n",
    "\n",
    "#\n",
    "# This extract script runs the same histogram code as above,\n",
    "# but saves the output to `out_py_extract_hist_results.yaml`\n",
    "# \n",
    "\n",
    "extracts = add_act[\"extracts\"]\n",
    "extracts[\"e1/type\"] = \"python\"\n",
    "extracts[\"e1/params/file\"] = \"ascent_tutorial_python_extract_braid_histogram.py\"\n",
    "\n",
    "\n",
    "# print our full actions tree\n",
    "print(actions.to_yaml())\n",
    "\n",
    "# execute the actions\n",
    "a.execute(actions);\n",
    "\n",
    "# show status\n",
    "ascent.jupyter.AscentViewer(a).show()"
   ]
  },
  {
   "cell_type": "code",
   "execution_count": null,
   "metadata": {},
   "outputs": [],
   "source": [
    "# close ascent\n",
    "a.close()"
   ]
  },
  {
   "cell_type": "code",
   "execution_count": null,
   "metadata": {},
   "outputs": [],
   "source": [
    "!ls out_py_extract_hist_results.yaml"
   ]
  },
  {
   "cell_type": "code",
   "execution_count": null,
   "metadata": {},
   "outputs": [],
   "source": [
    "#\n",
    "# Load and compare the extract yaml results,\n",
    "# they should match our earlier results.\n",
    "#\n",
    "hist_extract_results = conduit.Node()\n",
    "hist_extract_results.load(\"out_py_extract_hist_results.yaml\",protocol=\"yaml\")\n",
    "\n",
    "diff_info = conduit.Node()\n",
    "# hist_results is a Node with our earlier results \n",
    "if hist_results.diff(hist_extract_results,diff_info):\n",
    "    print(\"Extract results differ!\")\n",
    "    print(diff_info.to_yaml())\n",
    "else:\n",
    "    print(\"Extract results match.\")"
   ]
  },
  {
   "cell_type": "markdown",
   "metadata": {},
   "source": [
    "## Exercise\n",
    "\n",
    "Use and modify the code from Relay Extract Example 2 above.\n",
    "\n",
    "**First**, add a second field -- \"radial\" -- to be saved alongside \"braid\".\n",
    "\n",
    "**Second** change the protocol from hdf5 to yaml and change the path of the file created from `out_export_braid_one_field` to `out_export_braid_two_fields`"
   ]
  },
  {
   "cell_type": "code",
   "execution_count": null,
   "metadata": {},
   "outputs": [],
   "source": []
  },
  {
   "cell_type": "markdown",
   "metadata": {},
   "source": [
    "## Exercise solution\n",
    "Run the cell below once to see solutions and twice to run them."
   ]
  },
  {
   "cell_type": "code",
   "execution_count": null,
   "metadata": {},
   "outputs": [],
   "source": [
    "%load solutions/exercise6.py"
   ]
  }
 ],
 "metadata": {
  "kernelspec": {
   "display_name": "Python 3 (ipykernel)",
   "language": "python",
   "name": "python3"
  },
  "language_info": {
   "codemirror_mode": {
    "name": "ipython",
    "version": 3
   },
   "file_extension": ".py",
   "mimetype": "text/x-python",
   "name": "python",
   "nbconvert_exporter": "python",
   "pygments_lexer": "ipython3",
   "version": "3.9.13"
  }
 },
 "nbformat": 4,
 "nbformat_minor": 4
}
