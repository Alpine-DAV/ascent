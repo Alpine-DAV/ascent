{
 "cells": [
  {
   "cell_type": "markdown",
   "metadata": {},
   "source": [
    "## First Light Example\n",
    "### Render a sample dataset using Ascent\n",
    "To start, we run a basic “First Light” example to generate an image. This example renders the example dataset using ray casting to create a pseudocolor plot. The dataset is one of the built-in Conduit Mesh Blueprint examples, in this case an unstructured mesh composed of hexagons."
   ]
  },
  {
   "cell_type": "code",
   "execution_count": null,
   "metadata": {},
   "outputs": [],
   "source": [
    "# conduit + ascent imports\n",
    "import conduit\n",
    "import conduit.blueprint\n",
    "import ascent\n",
    "\n",
    "# cleanup any old results\n",
    "!./cleanup.sh"
   ]
  },
  {
   "cell_type": "code",
   "execution_count": null,
   "metadata": {},
   "outputs": [],
   "source": [
    "# create conduit node with an example mesh using conduit blueprint's braid function\n",
    "# ref: https://llnl-conduit.readthedocs.io/en/latest/blueprint_mesh.html#braid\n",
    "\n",
    "# things to explore:\n",
    "#  changing the mesh resolution\n",
    "\n",
    "mesh = conduit.Node()\n",
    "conduit.blueprint.mesh.examples.braid(\"hexs\",\n",
    "                                      50,\n",
    "                                      50,\n",
    "                                      50,\n",
    "                                      mesh)"
   ]
  },
  {
   "cell_type": "code",
   "execution_count": null,
   "metadata": {},
   "outputs": [],
   "source": [
    "# create an Ascent instance\n",
    "a = ascent.Ascent()\n",
    "\n",
    "# set options to allow errors propagate to python\n",
    "ascent_opts = conduit.Node()\n",
    "ascent_opts[\"exceptions\"] = \"forward\"\n",
    "\n",
    "#\n",
    "# open ascent\n",
    "#\n",
    "a.open(ascent_opts)\n",
    "\n",
    "#\n",
    "# publish mesh data to ascent\n",
    "#\n",
    "a.publish(mesh)\n",
    "\n",
    "#\n",
    "# Ascent's interface accepts \"actions\" \n",
    "# that to tell Ascent what to execute\n",
    "#\n",
    "actions = conduit.Node()\n",
    "\n",
    "# Create an action that tells Ascent to:\n",
    "#  add a scene (s1) with one plot (p1)\n",
    "#  that will render a pseudocolor of \n",
    "#  the mesh field `braid`\n",
    "add_act = actions.append()\n",
    "add_act[\"action\"] = \"add_scenes\"\n",
    "\n",
    "# declare a scene (s1) and pseudocolor plot (p1)\n",
    "scenes = add_act[\"scenes\"]\n",
    "\n",
    "# things to explore:\n",
    "#  changing plot type (mesh)\n",
    "#  changing field name (for this dataset: radial)\n",
    "scenes[\"s1/plots/p1/type\"] = \"pseudocolor\"\n",
    "scenes[\"s1/plots/p1/field\"] = \"braid\"\n",
    "\n",
    "# set the output file name (ascent will add \".png\")\n",
    "scenes[\"s1/image_name\"] = \"out_first_light_render_3d\"\n",
    "\n",
    "# view our full actions tree\n",
    "print(actions.to_yaml())\n",
    "\n",
    "# execute the actions\n",
    "a.execute(actions)"
   ]
  },
  {
   "cell_type": "code",
   "execution_count": null,
   "metadata": {},
   "outputs": [],
   "source": [
    "# show the result from our scene using the AscentViewer widget\n",
    "ascent.jupyter.AscentViewer(a).show()"
   ]
  },
  {
   "cell_type": "code",
   "execution_count": null,
   "metadata": {},
   "outputs": [],
   "source": [
    "# close ascent\n",
    "a.close()"
   ]
  },
  {
   "cell_type": "markdown",
   "metadata": {},
   "source": [
    "## Exercise\n",
    "\n",
    "**First**, change the \"field\" name for this dataset from \"braid\" to \"radial\" and re-plot the image.\n",
    "\n",
    "**Second**, observe how the image generated changes as you decrease the number of points on the mesh. For example, move from a 50x50x50 mesh to a 15x15x15 mesh.\n",
    "\n"
   ]
  },
  {
   "cell_type": "code",
   "execution_count": null,
   "metadata": {},
   "outputs": [],
   "source": []
  },
  {
   "cell_type": "markdown",
   "metadata": {},
   "source": [
    "## Exercise solution\n",
    "Run the cell below once to see solutions and twice to run them."
   ]
  },
  {
   "cell_type": "code",
   "execution_count": null,
   "metadata": {},
   "outputs": [],
   "source": [
    "%load solutions/exercise1.py"
   ]
  }
 ],
 "metadata": {
  "kernelspec": {
   "display_name": "Python 3 (ipykernel)",
   "language": "python",
   "name": "python3"
  },
  "language_info": {
   "codemirror_mode": {
    "name": "ipython",
    "version": 3
   },
   "file_extension": ".py",
   "mimetype": "text/x-python",
   "name": "python",
   "nbconvert_exporter": "python",
   "pygments_lexer": "ipython3",
   "version": "3.9.13"
  }
 },
 "nbformat": 4,
 "nbformat_minor": 4
}
