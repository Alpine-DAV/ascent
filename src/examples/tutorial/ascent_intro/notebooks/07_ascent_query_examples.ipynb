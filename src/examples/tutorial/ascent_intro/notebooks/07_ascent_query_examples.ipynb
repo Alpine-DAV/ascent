{
 "cells": [
  {
   "cell_type": "markdown",
   "metadata": {},
   "source": [
    "# Ask and answer questions with Queries\n",
    "Queries are a way to ask summarization questions about meshes. Queries results can be used with Triggers to adapt analysis and visualization actions.  This section shows how to execute queries with Ascent and access query results. See Ascent's [Queries](https://ascent.readthedocs.io/en/latest/Actions/Queries.html) docs for deeper details on Queries."
   ]
  },
  {
   "cell_type": "code",
   "execution_count": null,
   "metadata": {},
   "outputs": [],
   "source": [
    "# ascent + conduit imports\n",
    "import conduit\n",
    "import conduit.blueprint\n",
    "import ascent\n",
    "\n",
    "import numpy as np\n",
    "import matplotlib.pyplot as plt\n",
    "\n",
    "# helpers we use to create tutorial data\n",
    "from ascent_tutorial_jupyter_utils import tutorial_gyre_example\n",
    "\n",
    "# cleanup any old results\n",
    "!./cleanup.sh"
   ]
  },
  {
   "cell_type": "markdown",
   "metadata": {},
   "source": [
    "## Query Example 1\n",
    "### Extracting mesh cycle and entropy of a time varying mesh"
   ]
  },
  {
   "cell_type": "code",
   "execution_count": null,
   "metadata": {},
   "outputs": [],
   "source": [
    "# open ascent\n",
    "a = ascent.Ascent()\n",
    "a.open()\n",
    "\n",
    "# setup actions\n",
    "actions = conduit.Node()\n",
    "add_act = actions.append()\n",
    "add_act[\"action\"] = \"add_queries\"\n",
    "\n",
    "# declare a queries to ask some questions\n",
    "queries = add_act[\"queries\"] \n",
    "\n",
    "# add a simple query expression (q1)\n",
    "queries[\"q1/params/expression\"] = \"cycle()\"\n",
    "queries[\"q1/params/name\"] = \"cycle\"\n",
    "\n",
    "# add a more complex query expression (q2)\n",
    "queries[\"q2/params/expression\"] = \"entropy(histogram(field('gyre'), num_bins=128))\"\n",
    "queries[\"q2/params/name\"] = \"entropy_of_gyre\"\n",
    "\n",
    "# declare a scene to render the dataset\n",
    "add_scenes = actions.append()\n",
    "add_scenes[\"action\"] = \"add_scenes\"\n",
    "scenes = add_scenes[\"scenes\"] \n",
    "scenes[\"s1/plots/p1/type\"] = \"pseudocolor\"\n",
    "scenes[\"s1/plots/p1/field\"] = \"gyre\"\n",
    "# Set the output file name (ascent will add \".png\")\n",
    "scenes[\"s1/image_name\"] = \"out_gyre\"\n",
    "\n",
    "# view our full actions tree\n",
    "print(actions.to_yaml())\n",
    "\n",
    "# gyre time varying params\n",
    "nsteps = 10\n",
    "time = 0.0\n",
    "delta_time = 0.5\n",
    "\n",
    "info = conduit.Node()\n",
    "for step in range(nsteps):\n",
    "    # call helper that generates a double gyre time varying example mesh.\n",
    "    # gyre ref :https://shaddenlab.berkeley.edu/uploads/LCS-tutorial/examples.html\n",
    "    mesh = tutorial_gyre_example(time)\n",
    "    \n",
    "    # update the example cycle\n",
    "    cycle = 100 + step * 100\n",
    "\n",
    "    mesh[\"state/cycle\"] = cycle\n",
    "    print(\"time: {} cycle: {}\".format(time,cycle))\n",
    "    \n",
    "    # publish mesh to ascent\n",
    "    a.publish(mesh)\n",
    "    \n",
    "    # update image name\n",
    "    scenes[\"s1/image_name\"] = \"out_gyre_%04d\" % step;\n",
    "    \n",
    "    # execute the actions\n",
    "    a.execute(actions)\n",
    "\n",
    "    # retrieve the info node that contains the query results\n",
    "    ts_info = conduit.Node()\n",
    "    a.info(ts_info)\n",
    "    \n",
    "    # add to our running info\n",
    "    info[\"expressions\"].update(ts_info[\"expressions\"])\n",
    "    \n",
    "    # update time\n",
    "    time = time + delta_time\n",
    "    \n",
    "# close ascent\n",
    "a.close()"
   ]
  },
  {
   "cell_type": "code",
   "execution_count": null,
   "metadata": {},
   "outputs": [],
   "source": [
    "# view the results of the cycle query\n",
    "print(info[\"expressions/cycle\"].to_yaml())\n",
    "# Note that query results can be indexed by cycle"
   ]
  },
  {
   "cell_type": "code",
   "execution_count": null,
   "metadata": {},
   "outputs": [],
   "source": [
    "# view the results of the cycle query\n",
    "print(info[\"expressions/entropy_of_gyre\"].to_yaml())"
   ]
  },
  {
   "cell_type": "code",
   "execution_count": null,
   "metadata": {},
   "outputs": [],
   "source": [
    "# View our rendered images\n",
    "result_image_files = [ \"out_gyre_%04d.png\" %i for i in range(nsteps)]\n",
    "ascent.jupyter.AscentImageSequenceViewer(result_image_files).show()"
   ]
  },
  {
   "cell_type": "code",
   "execution_count": null,
   "metadata": {},
   "outputs": [],
   "source": [
    "# create an array with the entropy values from all \n",
    "# cycles\n",
    "entropy = np.zeros(nsteps)\n",
    "\n",
    "# get the node that has the time history\n",
    "gyre = info[\"expressions/entropy_of_gyre\"]\n",
    "print(gyre)\n",
    "cycle_names = gyre.child_names()\n",
    "\n",
    "# transfer conduit data to our summary numpy array\n",
    "for i in range(gyre.number_of_children()):\n",
    "    entropy[i] = gyre[i][\"value\"]\n",
    "\n",
    "print(\"Entropy Result\")\n",
    "print(entropy)\n",
    "\n",
    "# plot the data\n",
    "plt.plot(cycle_names, entropy)\n",
    "plt.ylabel('entropy')\n",
    "plt.xlabel('cycle')\n",
    "plt.show()"
   ]
  },
  {
   "cell_type": "markdown",
   "metadata": {},
   "source": [
    "## Exercise\n",
    "\n",
    "Use and modify the code from Query Example 1:\n",
    "\n",
    "**First**, observe how changing the number of bins alters the entropy of the histogram in Query Example 1; change the number of bins from 128 to 64 and then to 32.\n",
    "\n",
    "**Second**, add two additional queries like `q2` -- `q3` with 64 bins and `q4` with 32 bins. \n",
    "\n",
    "**Third**, plot entropy vs. cycles for each of the three entropy queries. Create arrays to store the entropy as calculated for `q[1-3]` and overlay these entropies on the same plot. \n"
   ]
  },
  {
   "cell_type": "code",
   "execution_count": null,
   "metadata": {},
   "outputs": [],
   "source": []
  },
  {
   "cell_type": "markdown",
   "metadata": {},
   "source": [
    "## Exercise solution\n",
    "Run the cell below once to see solutions and twice to run them."
   ]
  },
  {
   "cell_type": "code",
   "execution_count": null,
   "metadata": {},
   "outputs": [],
   "source": [
    "%load solutions/exercise7.py"
   ]
  }
 ],
 "metadata": {
  "kernelspec": {
   "display_name": "Python 3 (ipykernel)",
   "language": "python",
   "name": "python3"
  },
  "language_info": {
   "codemirror_mode": {
    "name": "ipython",
    "version": 3
   },
   "file_extension": ".py",
   "mimetype": "text/x-python",
   "name": "python",
   "nbconvert_exporter": "python",
   "pygments_lexer": "ipython3",
   "version": "3.9.13"
  }
 },
 "nbformat": 4,
 "nbformat_minor": 4
}
