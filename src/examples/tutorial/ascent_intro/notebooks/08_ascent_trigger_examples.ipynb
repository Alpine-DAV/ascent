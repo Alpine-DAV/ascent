{
 "cells": [
  {
   "cell_type": "markdown",
   "metadata": {},
   "source": [
    "# Trigger Examples\n",
    "Triggers allow the user to specify a set of actions that are triggered by the result of a boolean expression.\n",
    "They provide flexibility to adapt what analysis and visualization actions are taken in situ. Triggers leverage Ascent's Query and Expression infrastructure. See Ascent's [Triggers](https://ascent.readthedocs.io/en/latest/Actions/Triggers.html) docs for deeper details on Triggers."
   ]
  },
  {
   "cell_type": "code",
   "execution_count": null,
   "metadata": {},
   "outputs": [],
   "source": [
    "# cleanup any old results\n",
    "!./cleanup.sh\n",
    "\n",
    "# ascent + conduit imports\n",
    "import conduit\n",
    "import conduit.blueprint\n",
    "import ascent\n",
    "\n",
    "import numpy as np\n",
    "\n",
    "# helpers we use to create tutorial data\n",
    "from ascent_tutorial_jupyter_utils import img_display_width\n",
    "from ascent_tutorial_jupyter_utils import tutorial_gyre_example\n",
    "\n",
    "import matplotlib.pyplot as plt"
   ]
  },
  {
   "cell_type": "markdown",
   "metadata": {},
   "source": [
    "## Trigger Example 1\n",
    "### Using triggers to render when conditions occur"
   ]
  },
  {
   "cell_type": "code",
   "execution_count": null,
   "metadata": {},
   "outputs": [],
   "source": [
    "# Use triggers to render when conditions occur\n",
    "a = ascent.Ascent()\n",
    "a.open()\n",
    "\n",
    "# setup actions\n",
    "actions = conduit.Node()\n",
    "\n",
    "# declare a question to ask \n",
    "add_queries = actions.append()\n",
    "add_queries[\"action\"] = \"add_queries\"\n",
    "\n",
    "# add our entropy query (q1)\n",
    "queries = add_queries[\"queries\"] \n",
    "queries[\"q1/params/expression\"] = \"entropy(histogram(field('gyre'), num_bins=128))\"\n",
    "queries[\"q1/params/name\"] = \"entropy\"\n",
    "\n",
    "# declare triggers \n",
    "add_triggers = actions.append()\n",
    "add_triggers[\"action\"] = \"add_triggers\"\n",
    "triggers = add_triggers[\"triggers\"] \n",
    "\n",
    "# add a simple trigger (t1_ that fires at cycle 500\n",
    "triggers[\"t1/params/condition\"] = \"cycle() == 500\"\n",
    "triggers[\"t1/params/actions_file\"] = \"cycle_trigger_actions.yaml\"\n",
    "\n",
    "# add trigger (t2) that fires when the change in entroy exceeds 0.5\n",
    "\n",
    "# the history function allows you to access query results of previous\n",
    "# cycles. relative_index indicates how far back in history to look.\n",
    "\n",
    "# Looking at the plot of gyre entropy in the previous notebook, we see a jump\n",
    "# in entropy at cycle 200, so we expect the trigger to fire at cycle 200\n",
    "triggers[\"t2/params/condition\"] = \"entropy - history(entropy, relative_index = 1) > 0.5\"\n",
    "triggers[\"t2/params/actions_file\"] = \"entropy_trigger_actions.yaml\"\n",
    "\n",
    "# view our full actions tree\n",
    "print(actions.to_yaml())\n",
    "\n",
    "# gyre time varying params\n",
    "nsteps = 10\n",
    "time = 0.0\n",
    "delta_time = 0.5\n",
    "\n",
    "for step in range(nsteps):\n",
    "    # call helper that generates a double gyre time varying example mesh.\n",
    "    # gyre ref :https://shaddenlab.berkeley.edu/uploads/LCS-tutorial/examples.html\n",
    "    mesh = tutorial_gyre_example(time)\n",
    "    \n",
    "    # update the example cycle\n",
    "    cycle = 100 + step * 100\n",
    "    mesh[\"state/cycle\"] = cycle\n",
    "    print(\"time: {} cycle: {}\".format(time,cycle))\n",
    "    \n",
    "    # publish mesh to ascent\n",
    "    a.publish(mesh)\n",
    "    \n",
    "    # execute the actions\n",
    "    a.execute(actions)\n",
    "    \n",
    "    # update time\n",
    "    time = time + delta_time\n",
    "\n",
    "# retrieve the info node that contains the trigger and query results\n",
    "info = conduit.Node()\n",
    "a.info(info)\n",
    "\n",
    "# close ascent\n",
    "a.close()"
   ]
  },
  {
   "cell_type": "code",
   "execution_count": null,
   "metadata": {},
   "outputs": [],
   "source": [
    "# we expect our cycle trigger to render only at cycle 500\n",
    "! ls cycle_trigger*.png"
   ]
  },
  {
   "cell_type": "code",
   "execution_count": null,
   "metadata": {},
   "outputs": [],
   "source": [
    "# show the result image from the cycle trigger\n",
    "ascent.jupyter.AscentImageSequenceViewer([\"cycle_trigger_out_500.png\"]).show()"
   ]
  },
  {
   "cell_type": "code",
   "execution_count": null,
   "metadata": {},
   "outputs": [],
   "source": [
    "# we expect our entropy trigger to render only at cycle 200\n",
    "! ls entropy_trigger*.png"
   ]
  },
  {
   "cell_type": "code",
   "execution_count": null,
   "metadata": {},
   "outputs": [],
   "source": [
    "# show the result image from the entropy trigger\n",
    "ascent.jupyter.AscentImageSequenceViewer([\"entropy_trigger_out_200.png\"]).show()"
   ]
  },
  {
   "cell_type": "code",
   "execution_count": null,
   "metadata": {},
   "outputs": [],
   "source": [
    "print(info[\"expressions\"].to_yaml())"
   ]
  },
  {
   "cell_type": "markdown",
   "metadata": {},
   "source": [
    "## Exercise\n",
    "\n",
    "Create your own trigger that sets up a scene with two renders (as in notebook 4) at cycle 1000.\n",
    "\n",
    "**First**, refactor the code from Trigger Example 1 to have a single trigger at cycle 1000.\n",
    "\n",
    "**Second**, create a new actions file or prepare to edit `cycle_trigger_actions.yaml`. Make sure your trigger is using the correct actions file.\n",
    "\n",
    "**Third**, edit your actions .yaml file to include two renders, as in notebook 4's \"Scene Example 3\". One render can use an azimuth angle of 10 degrees and the other a 3x zoom.\n",
    "\n",
    "**Fourth**, use `ascent.jupyter.AscentImageSequenceViewer` as above to plot the two .png files created by your trigger.\n"
   ]
  },
  {
   "cell_type": "code",
   "execution_count": null,
   "metadata": {},
   "outputs": [],
   "source": []
  },
  {
   "cell_type": "markdown",
   "metadata": {},
   "source": [
    "## Exercise solution\n",
    "Run the cell below once to see solutions and twice to run them."
   ]
  },
  {
   "cell_type": "code",
   "execution_count": null,
   "metadata": {},
   "outputs": [],
   "source": [
    "%load solutions/exercise8.py"
   ]
  }
 ],
 "metadata": {
  "kernelspec": {
   "display_name": "Python 3 (ipykernel)",
   "language": "python",
   "name": "python3"
  },
  "language_info": {
   "codemirror_mode": {
    "name": "ipython",
    "version": 3
   },
   "file_extension": ".py",
   "mimetype": "text/x-python",
   "name": "python",
   "nbconvert_exporter": "python",
   "pygments_lexer": "ipython3",
   "version": "3.9.13"
  }
 },
 "nbformat": 4,
 "nbformat_minor": 4
}
