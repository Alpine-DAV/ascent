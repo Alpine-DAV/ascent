{
 "cells": [
  {
   "cell_type": "markdown",
   "metadata": {},
   "source": [
    "# Conduit Basics\n",
    "\n",
    "Ascent's API is based on [Conduit](http://software.llnl.gov/conduit/). Both mesh data and action descriptions are passed to Ascent as Conduit trees.  The Conduit C++ and Python interfaces are very similar, with the C++ interface heavily influenced by the ease of use of Python. These examples provide basic knowledge about creating Conduit Nodes to use with Ascent. You can also find more introductory Conduit examples in Conduit's [Tutorial Docs](https://llnl-conduit.readthedocs.io/en/latest/conduit.html)."
   ]
  },
  {
   "cell_type": "code",
   "execution_count": null,
   "metadata": {},
   "outputs": [],
   "source": [
    "# import condit and numpy\n",
    "import conduit\n",
    "import numpy as np"
   ]
  },
  {
   "cell_type": "code",
   "execution_count": null,
   "metadata": {},
   "outputs": [],
   "source": [
    "#\n",
    "# The core of Conduit's data model is `Node` object that \n",
    "# holds a dynamic hierarchical key value tree\n",
    "#\n",
    "# Here is a simple example that creates\n",
    "# a key value pair in a Conduit Node:\n",
    "#\n",
    "n = conduit.Node()\n",
    "n[\"key\"] = \"value\";\n",
    "print(n.to_yaml())"
   ]
  },
  {
   "cell_type": "code",
   "execution_count": null,
   "metadata": {},
   "outputs": [],
   "source": [
    "#\n",
    "# Using hierarchical paths imposes a tree structure\n",
    "#\n",
    "n = conduit.Node()\n",
    "n[\"dir1/dir2/val1\"] = 100.5;\n",
    "print(n.to_yaml())    "
   ]
  },
  {
   "cell_type": "code",
   "execution_count": null,
   "metadata": {},
   "outputs": [],
   "source": [
    "#\n",
    "# Conduit's Node trees hold strings or bitwidth style numeric array leaves\n",
    "#\n",
    "# In C++: you can pass raw pointers to numeric arrays or \n",
    "#  std::vectors with numeric values\n",
    "# \n",
    "# In python: numpy ndarrays are used for arrays\n",
    "#\n",
    "n = conduit.Node()\n",
    "a = np.zeros(10, dtype=np.int32)\n",
    "\n",
    "a[0] = 0\n",
    "a[1] = 1\n",
    "for i in range(2,10):\n",
    "   a[i] = a[i-2] + a[i-1]\n",
    "\n",
    "n[\"fib\"].set(a);\n",
    "print(n.to_yaml());"
   ]
  },
  {
   "cell_type": "code",
   "execution_count": null,
   "metadata": {},
   "outputs": [],
   "source": [
    "#\n",
    "# Conduit supports zero copy, allowing a Conduit Node to describe and\n",
    "# point to externally allocated data.\n",
    "# \n",
    "# set_external() is method used to zero copy data into a Node\n",
    "#\n",
    "n = conduit.Node()\n",
    "a1 = np.zeros(10, dtype=np.int32)\n",
    "\n",
    "a1[0] = 0\n",
    "a1[1] = 1\n",
    "\n",
    "for i in range(2,10):\n",
    "   a1[i] = a1[i-2] + a1[i-1]\n",
    "\n",
    "\n",
    "# create another array to demo difference \n",
    "# between set and set_external\n",
    "a2 = np.zeros(10, dtype=np.int32) \n",
    "\n",
    "a2[0] = 0\n",
    "a2[1] = 1\n",
    "\n",
    "for i in range(2,10):\n",
    "   a2[i] = a2[i-2] + a2[i-1]\n",
    "\n",
    "n[\"fib_deep_copy\"].set(a1);\n",
    "n[\"fib_shallow_copy\"].set_external(a2);\n",
    "\n",
    "a1[-1] = -1\n",
    "a2[-1] = -1\n",
    "\n",
    "print(n.to_yaml())"
   ]
  },
  {
   "cell_type": "markdown",
   "metadata": {},
   "source": [
    "## Exercise\n",
    "\n",
    "**First**, create a tree with the following format:\n",
    "\n",
    "```\n",
    "animals: \n",
    "  carnivores: \n",
    "    - \"cat\"\n",
    "  herbivores: \n",
    "    - \"koala\"\n",
    "    - \"sloth\"\n",
    "  omnivores: \n",
    "    - \"dog\"\n",
    "    - \"human\"\n",
    "```\n",
    "\n",
    "Hint: You'll have to use lists.\n",
    "\n",
    "**Second**\n",
    "\n",
    "Add \"bear\" to the list of omnivores in `animals` so that the tree looks like\n",
    "\n",
    "```\n",
    "animals: \n",
    "  carnivores: \n",
    "    - \"cat\"\n",
    "  herbivores: \n",
    "    - \"koala\"\n",
    "    - \"sloth\"\n",
    "  omnivores: \n",
    "    - \"dog\"\n",
    "    - \"human\"\n",
    "    - \"bear\"\n",
    "```\n",
    "\n",
    "Here you'll use the `set` method introduced above! See [these docs](https://llnl-conduit.readthedocs.io/en/latest/tutorial_python_basics.html) for help."
   ]
  },
  {
   "cell_type": "code",
   "execution_count": null,
   "metadata": {},
   "outputs": [],
   "source": []
  },
  {
   "cell_type": "markdown",
   "metadata": {},
   "source": [
    "## Exercise solution\n",
    "Run the cell below once to see solutions and twice to run them."
   ]
  },
  {
   "cell_type": "code",
   "execution_count": null,
   "metadata": {},
   "outputs": [],
   "source": [
    "%load solutions/exercise2.py"
   ]
  }
 ],
 "metadata": {
  "kernelspec": {
   "display_name": "Python 3 (ipykernel)",
   "language": "python",
   "name": "python3"
  },
  "language_info": {
   "codemirror_mode": {
    "name": "ipython",
    "version": 3
   },
   "file_extension": ".py",
   "mimetype": "text/x-python",
   "name": "python",
   "nbconvert_exporter": "python",
   "pygments_lexer": "ipython3",
   "version": "3.9.13"
  }
 },
 "nbformat": 4,
 "nbformat_minor": 4
}
