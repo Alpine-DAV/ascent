{
 "cells": [
  {
   "cell_type": "markdown",
   "metadata": {},
   "source": [
    "# Data Binning\n",
    "Ascent provides a multi-dimensional data binning capability that allows you to calculate spatial distributions, find extreme values, etc. With the right approach, you can implement mesh agnostic analysis that can be used across simulation codes. You can also map the binned result back onto the original mesh topology to enable further analysis, like deviations from an average. These examples show how to define and execute binning operations using Ascent's query interface. See Ascent's [Data Binning](https://ascent.readthedocs.io/en/latest/Actions/Binning.html) docs for deeper details about Data Binning."
   ]
  },
  {
   "cell_type": "code",
   "execution_count": null,
   "metadata": {},
   "outputs": [],
   "source": [
    "# ascent + conduit imports\n",
    "import conduit\n",
    "import conduit.blueprint\n",
    "import ascent\n",
    "\n",
    "import numpy as np\n",
    "\n",
    "# cleanup any old results\n",
    "!./cleanup.sh"
   ]
  },
  {
   "cell_type": "code",
   "execution_count": null,
   "metadata": {},
   "outputs": [],
   "source": [
    "# create example mesh using the conduit blueprint braid helper\n",
    "mesh = conduit.Node()\n",
    "conduit.blueprint.mesh.examples.braid(\"hexs\",\n",
    "                                      25,\n",
    "                                      25,\n",
    "                                      25,\n",
    "                                      mesh)"
   ]
  },
  {
   "cell_type": "markdown",
   "metadata": {},
   "source": [
    "## Data Binning Example"
   ]
  },
  {
   "cell_type": "code",
   "execution_count": null,
   "metadata": {},
   "outputs": [],
   "source": [
    "# Use Ascent to bin an input mesh in a few ways\n",
    "a = ascent.Ascent()\n",
    "\n",
    "# open ascent\n",
    "a.open()\n",
    "\n",
    "# publish mesh to ascent\n",
    "a.publish(mesh)\n",
    "\n",
    "# setup actions\n",
    "actions = conduit.Node()\n",
    "add_act = actions.append()\n",
    "add_act[\"action\"] = \"add_queries\"\n",
    "\n",
    "# declare a queries to ask some questions\n",
    "queries = add_act[\"queries\"] \n",
    "\n",
    "# Create a 1D binning projected onto the x-axis\n",
    "queries[\"q1/params/expression\"] = \"binning('radial','max', [axis('x',num_bins=20)])\";\n",
    "queries[\"q1/params/name\"] = \"1d_binning\"\n",
    "\n",
    "# Create a 2D binning projected onto the x-y plane\n",
    "queries[\"q2/params/expression\"] = \"binning('radial','max', [axis('x',num_bins=20), axis('y',num_bins=20)])\";\n",
    "queries[\"q2/params/name\"] = \"2d_binning\"\n",
    "\n",
    "# Create a binning that emulates a line-out, that is, bin all values\n",
    "# between x = [-1,1], y = [-1,1] along the z-axis in 20 bins.\n",
    "# The result is a 1x1x20 array\n",
    "queries[\"q3/params/expression\"] = \"binning('radial','max', [axis('x',[-1,1]), axis('y', [-1,1]), axis('z', num_bins=20)])\";\n",
    "queries[\"q3/params/name\"] = \"3d_binning\"\n",
    "\n",
    "# print our full actions tree\n",
    "print(actions.to_yaml())\n",
    "\n",
    "# execute the actions\n",
    "a.execute(actions)\n",
    "\n",
    "# show details\n",
    "ascent.jupyter.AscentViewer(a).show()"
   ]
  },
  {
   "cell_type": "markdown",
   "metadata": {},
   "source": [
    "## Plotting Binning Results"
   ]
  },
  {
   "cell_type": "code",
   "execution_count": null,
   "metadata": {},
   "outputs": [],
   "source": [
    "# extra imports for plotting\n",
    "import yaml\n",
    "import matplotlib.pyplot as plt"
   ]
  },
  {
   "cell_type": "code",
   "execution_count": null,
   "metadata": {},
   "outputs": [],
   "source": [
    "# grab info from last execution which includes our binning results\n",
    "info = conduit.Node()\n",
    "a.info(info)"
   ]
  },
  {
   "cell_type": "markdown",
   "metadata": {},
   "source": [
    "## Plot the 1d binning result"
   ]
  },
  {
   "cell_type": "code",
   "execution_count": null,
   "metadata": {},
   "outputs": [],
   "source": [
    "binning = info.fetch_existing('expressions/1d_binning')\n",
    "cycles = binning.child_names()\n",
    "bins = []\n",
    "\n",
    "# loop through each cycle and grab the bins\n",
    "for cycle in cycles:\n",
    "  bins.append(binning[cycle + '/attrs/value/value'])\n",
    "\n",
    "# create the coordinate axis using bin centers\n",
    "x_axis = binning[cycles[0]]['attrs/bin_axes/value/x']\n",
    "x_min = x_axis['min_val']\n",
    "x_max = x_axis['max_val']\n",
    "x_bins = x_axis['num_bins']\n",
    "\n",
    "x_delta = (x_max - x_min) / float(x_bins)\n",
    "x_start = x_min + 0.5 * x_delta\n",
    "x_vals = []\n",
    "for b in range(0,x_bins):\n",
    "  x_vals.append(b * x_delta + x_start)\n",
    "\n",
    "# plot the curve from the last cycle\n",
    "plt.plot(x_vals, bins[-1])\n",
    "plt.xlabel('x position')\n",
    "plt.ylabel('max radial')"
   ]
  },
  {
   "cell_type": "markdown",
   "metadata": {},
   "source": [
    "## Plot the 2d binning result"
   ]
  },
  {
   "cell_type": "code",
   "execution_count": null,
   "metadata": {},
   "outputs": [],
   "source": [
    "binning = info.fetch_existing('expressions/2d_binning')\n",
    "cycles = binning.child_names()\n",
    "bins = []\n",
    "\n",
    "# loop through each cycle and grab the bins\n",
    "for cycle in cycles:\n",
    "  bins.append(binning[cycle + '/attrs/value/value'])\n",
    "\n",
    "# extract the values for the unifom bins\n",
    "def bin_values(axis_name):\n",
    "  # create the coordinate axis using bin centers\n",
    "  axis = binning[cycles[0]]['attrs/bin_axes/value/' + axis_name]\n",
    "  a_min = axis['min_val']\n",
    "  a_max = axis['max_val']\n",
    "  a_bins = axis['num_bins']\n",
    "\n",
    "  a_delta = (a_max - a_min) / float(a_bins)\n",
    "  a_start = a_min + 0.5 * a_delta\n",
    "\n",
    "  axis_vals = []\n",
    "  for b in range(0,a_bins):\n",
    "    axis_vals.append(b * a_delta + a_start)\n",
    "  return axis_vals, a_bins\n",
    "\n",
    "x_vals, x_size = bin_values('x')\n",
    "y_vals, y_size = bin_values('y')\n",
    "x, y = np.meshgrid(x_vals, y_vals)\n",
    "# plot the curve from the last cycle\n",
    "# Note: values are strided in the order the axes were declared in\n",
    "# the query, that is the axis listed first varies the fastest\n",
    "values = np.array(bins[-1]).reshape(x_size, y_size)\n",
    "\n",
    "\n",
    "# plot the curve from the last cycle\n",
    "plt.pcolormesh(x, y, values, shading='auto', cmap = 'viridis');\n",
    "plt.xlabel('x position')\n",
    "plt.ylabel('y position')\n",
    "cbar = plt.colorbar()\n",
    "cbar.set_label('max radial value')"
   ]
  },
  {
   "cell_type": "markdown",
   "metadata": {},
   "source": [
    "## Plot the 3d binning result"
   ]
  },
  {
   "cell_type": "code",
   "execution_count": null,
   "metadata": {},
   "outputs": [],
   "source": [
    "binning = info.fetch_existing('expressions/3d_binning')\n",
    "cycles = binning.child_names()\n",
    "bins = []\n",
    "\n",
    "# loop through each cycle and grab the bins\n",
    "for cycle in cycles:\n",
    "  bins.append(binning[cycle + '/attrs/value/value'])\n",
    "\n",
    "# create the coordinate axis using bin centers\n",
    "z_axis =  binning[cycles[0]]['attrs/bin_axes/value/z']\n",
    "z_min = z_axis['min_val']\n",
    "z_max = z_axis['max_val']\n",
    "z_bins = z_axis['num_bins']\n",
    "\n",
    "z_delta = (z_max - z_min) / float(z_bins)\n",
    "z_start = z_min + 0.5 * z_delta\n",
    "z_vals = []\n",
    "for b in range(0,z_bins):\n",
    "  z_vals.append(b * z_delta + z_start)\n",
    "\n",
    "# plot the curve from the last cycle\n",
    "plt.plot(z_vals, bins[-1]);\n",
    "plt.xlabel('z position')\n",
    "plt.ylabel('max radial')"
   ]
  }
 ],
 "metadata": {
  "kernelspec": {
   "display_name": "Python 3",
   "language": "python",
   "name": "python3"
  },
  "language_info": {
   "codemirror_mode": {
    "name": "ipython",
    "version": 3
   },
   "file_extension": ".py",
   "mimetype": "text/x-python",
   "name": "python",
   "nbconvert_exporter": "python",
   "pygments_lexer": "ipython3",
   "version": "3.6.3"
  }
 },
 "nbformat": 4,
 "nbformat_minor": 4
}
