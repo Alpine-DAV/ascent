{
 "cells": [
  {
   "cell_type": "markdown",
   "metadata": {},
   "source": [
    "# Rendering images with Scenes\n",
    "Scenes are the construct used to render pictures of meshes in Ascent. A scene description encapsulates all the information required to generate one or more images. Scenes can render mesh data published to Ascent or the result of an Ascent Pipeline.  This section of the tutorial provides a few simple examples demonstrating how to describe and render scenes. See Ascent's [Scene](https://ascent.readthedocs.io/en/latest/Actions/Scenes.html) docs for deeper details on scenes."
   ]
  },
  {
   "cell_type": "code",
   "execution_count": null,
   "metadata": {},
   "outputs": [],
   "source": [
    "# ascent + conduit imports\n",
    "import conduit\n",
    "import conduit.blueprint\n",
    "import ascent\n",
    "\n",
    "import numpy as np\n",
    "\n",
    "# helper for creating tutorial data\n",
    "from ascent_tutorial_jupyter_utils import tutorial_tets_example\n",
    "\n",
    "# cleanup any old results\n",
    "!./cleanup.sh"
   ]
  },
  {
   "cell_type": "markdown",
   "metadata": {},
   "source": [
    "### Prepare a tet mesh as in prior Mesh Blueprint example"
   ]
  },
  {
   "cell_type": "code",
   "execution_count": null,
   "metadata": {},
   "outputs": [],
   "source": [
    "mesh = conduit.Node()\n",
    "# (call helper to create example tet mesh as in blueprint example 2)\n",
    "tutorial_tets_example(mesh)"
   ]
  },
  {
   "cell_type": "markdown",
   "metadata": {},
   "source": [
    "## Scene Example 1\n",
    "### Using multiple scenes to render different variables"
   ]
  },
  {
   "cell_type": "code",
   "execution_count": null,
   "metadata": {},
   "outputs": [],
   "source": [
    "a = ascent.Ascent()\n",
    "a.open()\n",
    "a.publish(mesh);\n",
    "\n",
    "# setup actions\n",
    "actions = conduit.Node()\n",
    "add_act = actions.append()\n",
    "add_act[\"action\"] = \"add_scenes\"\n",
    "\n",
    "# declare two scenes (s1 and s2) to render the dataset\n",
    "scenes = add_act[\"scenes\"]\n",
    "# our first scene (named 's1') will render the field 'var1'\n",
    "# to the file out_scene_ex1_render_var1.png\n",
    "scenes[\"s1/plots/p1/type\"] = \"pseudocolor\";\n",
    "scenes[\"s1/plots/p1/field\"] = \"var1\";\n",
    "scenes[\"s1/image_name\"] = \"out_scene_ex1_render_var1\";\n",
    "\n",
    "# our second scene (named 's2') will render the field 'var2'\n",
    "# to the file out_scene_ex1_render_var2.png\n",
    "scenes[\"s2/plots/p1/type\"] = \"pseudocolor\";\n",
    "scenes[\"s2/plots/p1/field\"] = \"var2\";\n",
    "scenes[\"s2/image_name\"] = \"out_scene_ex1_render_var2\";\n",
    "\n",
    "# print our full actions tree\n",
    "print(actions.to_yaml())\n",
    "\n",
    "# execute the actions\n",
    "a.execute(actions)\n",
    "\n"
   ]
  },
  {
   "cell_type": "code",
   "execution_count": null,
   "metadata": {},
   "outputs": [],
   "source": [
    "# Show scene 1 + 2 results\n",
    "ascent.jupyter.AscentViewer(a).show()"
   ]
  },
  {
   "cell_type": "code",
   "execution_count": null,
   "metadata": {},
   "outputs": [],
   "source": [
    "# close ascent\n",
    "a.close()"
   ]
  },
  {
   "cell_type": "markdown",
   "metadata": {},
   "source": [
    "## Scene Example 2\n",
    "### Rendering multiple plots to a single image"
   ]
  },
  {
   "cell_type": "code",
   "execution_count": null,
   "metadata": {},
   "outputs": [],
   "source": [
    "a = ascent.Ascent()\n",
    "a.open()\n",
    "a.publish(mesh)\n",
    "\n",
    "# setup actions\n",
    "actions = conduit.Node()\n",
    "add_act = actions.append()\n",
    "add_act[\"action\"] = \"add_scenes\"\n",
    "\n",
    "# declare a scene to render the dataset\n",
    "scenes = add_act[\"scenes\"]\n",
    "# add a pseudocolor plot (`p1`)\n",
    "scenes[\"s1/plots/p1/type\"] = \"pseudocolor\"\n",
    "scenes[\"s1/plots/p1/field\"] = \"var1\"\n",
    "# add a mesh plot (`p1`) \n",
    "# (experiment with commenting this out)\n",
    "scenes[\"s1/plots/p2/type\"] = \"mesh\"\n",
    "scenes[\"s1/image_name\"] = \"out_scene_ex2_render_two_plots\"\n",
    "\n",
    "# print our full actions tree\n",
    "print(actions.to_yaml())\n",
    "\n",
    "# execute the actions\n",
    "a.execute(actions)"
   ]
  },
  {
   "cell_type": "code",
   "execution_count": null,
   "metadata": {},
   "outputs": [],
   "source": [
    "# The scene renders both plots togehter\n",
    "ascent.jupyter.AscentViewer(a).show()"
   ]
  },
  {
   "cell_type": "code",
   "execution_count": null,
   "metadata": {},
   "outputs": [],
   "source": [
    "# close ascent\n",
    "a.close()"
   ]
  },
  {
   "cell_type": "markdown",
   "metadata": {},
   "source": [
    "# Scene Example 3\n",
    "## Adjusting camera parameters\n",
    "Related docs: [Renders](https://ascent.readthedocs.io/en/latest/Actions/Scenes.html#renders-optional)"
   ]
  },
  {
   "cell_type": "code",
   "execution_count": null,
   "metadata": {},
   "outputs": [],
   "source": [
    "a = ascent.Ascent()\n",
    "a.open()\n",
    "a.publish(mesh)\n",
    "\n",
    "# setup our actions\n",
    "actions = conduit.Node()\n",
    "add_act = actions.append()\n",
    "add_act[\"action\"] = \"add_scenes\"\n",
    "\n",
    "# declare a scene to render the dataset\n",
    "scenes = add_act[\"scenes\"]\n",
    "\n",
    "#\n",
    "# You can define renders to control the parameters of a single output image.\n",
    "# Scenes support multiple renders.\n",
    "# \n",
    "# See the Renders docs for more details:\n",
    "# https://ascent.readthedocs.io/en/latest/Actions/Scenes.html#renders-optional\n",
    "#\n",
    "\n",
    "# setup our scene (s1) with two renders (r1 and r2)\n",
    "scenes[\"s1/plots/p1/type\"] = \"pseudocolor\"\n",
    "scenes[\"s1/plots/p1/field\"] = \"var1\"\n",
    "\n",
    "# render a view (r1) with a slight adjustment to camera azimuth\n",
    "scenes[\"s1/renders/r1/image_name\"] = \"out_scene_ex3_view1\"\n",
    "scenes[\"s1/renders/r1/camera/azimuth\"] = 10.0\n",
    "\n",
    "# render a view (r2) that zooms in from the default camera\n",
    "scenes[\"s1/renders/r2/image_name\"] = \"out_scene_ex3_view2\"\n",
    "scenes[\"s1/renders/r2/camera/zoom\"] = 3.0\n",
    "\n",
    "# print our full actions tree\n",
    "print(actions.to_yaml())\n",
    "\n",
    "# execute the actions\n",
    "a.execute(actions)"
   ]
  },
  {
   "cell_type": "code",
   "execution_count": null,
   "metadata": {},
   "outputs": [],
   "source": [
    "# Show result of first render (r1) and second render (r2)\n",
    "ascent.jupyter.AscentViewer(a).show()"
   ]
  },
  {
   "cell_type": "code",
   "execution_count": null,
   "metadata": {},
   "outputs": [],
   "source": [
    "# close ascent\n",
    "a.close()"
   ]
  },
  {
   "cell_type": "markdown",
   "metadata": {},
   "source": [
    "# Scene Example 4\n",
    "## Changing color tables\n",
    "\n",
    "Related docs: [Color Tables](https://ascent.readthedocs.io/en/latest/Actions/Scenes.html#color-tables)"
   ]
  },
  {
   "cell_type": "code",
   "execution_count": null,
   "metadata": {},
   "outputs": [],
   "source": [
    "a = ascent.Ascent()\n",
    "a.open()\n",
    "a.publish(mesh)\n",
    "\n",
    "# setup actions\n",
    "actions = conduit.Node()\n",
    "add_act = actions.append()\n",
    "add_act[\"action\"] = \"add_scenes\"\n",
    "\n",
    "# declare a two scenes (s1 and s2) to render the dataset\n",
    "# using different color tables\n",
    "#\n",
    "# See the Color Tables docs for more details on what is supported:\n",
    "# https://ascent.readthedocs.io/en/latest/Actions/Scenes.html#color-tables\n",
    "#\n",
    "scenes = add_act[\"scenes\"]\n",
    "\n",
    "# the first scene (s1) will render a pseudocolor \n",
    "# plot using Viridis color table\n",
    "scenes[\"s1/plots/p1/type\"] = \"pseudocolor\";\n",
    "scenes[\"s1/plots/p1/field\"] = \"var1\"\n",
    "scenes[\"s1/plots/p1/color_table/name\"] = \"Viridis\"\n",
    "scenes[\"s1/image_name\"] = \"out_scene_ex4_render_viridis\"\n",
    "\n",
    "# the first scene (s2) will render a pseudocolor \n",
    "# plot using Inferno color table\n",
    "scenes[\"s2/plots/p1/type\"] = \"pseudocolor\"\n",
    "scenes[\"s2/plots/p1/field\"] = \"var1\"\n",
    "scenes[\"s2/plots/p1/color_table/name\"] = \"Inferno\"\n",
    "scenes[\"s2/image_name\"] = \"out_scene_ex4_render_inferno\"\n",
    "\n",
    "# print our full actions tree\n",
    "print(actions.to_yaml())\n",
    "\n",
    "# execute the actions\n",
    "a.execute(actions)"
   ]
  },
  {
   "cell_type": "code",
   "execution_count": null,
   "metadata": {},
   "outputs": [],
   "source": [
    "# show the resulting images\n",
    "ascent.jupyter.AscentViewer(a).show()"
   ]
  },
  {
   "cell_type": "code",
   "execution_count": null,
   "metadata": {},
   "outputs": [],
   "source": [
    "# close ascent\n",
    "a.close()"
   ]
  },
  {
   "cell_type": "markdown",
   "metadata": {},
   "source": [
    "## Exercise\n",
    "\n",
    "Use and modify the code from Scene Example 3 (\"Adjusting camera parameters\").\n",
    "Change the color scheme to Viridis and rotate the view of the tet example\n",
    "360 degrees. \n",
    "\n",
    "**First**, update the name of the color table as in Example 4.\n",
    "\n",
    "**Second**, create 37 renders of `s1` with azimuth angles [0, 10, 20, 30, .... 360]\n",
    "\n",
    "Note: the following Python syntax for string interpolation may be helpful:\n",
    "\n",
    "```\n",
    "a = \"world\"\n",
    "print(f\"Hello {a}\")\n",
    "```"
   ]
  },
  {
   "cell_type": "code",
   "execution_count": null,
   "metadata": {},
   "outputs": [],
   "source": []
  },
  {
   "cell_type": "markdown",
   "metadata": {},
   "source": [
    "## Exercise solution\n",
    "Run the cell below once to see solutions and twice to run them."
   ]
  },
  {
   "cell_type": "code",
   "execution_count": null,
   "metadata": {},
   "outputs": [],
   "source": [
    "%load solutions/exercise4.py"
   ]
  }
 ],
 "metadata": {
  "kernelspec": {
   "display_name": "Python 3 (ipykernel)",
   "language": "python",
   "name": "python3"
  },
  "language_info": {
   "codemirror_mode": {
    "name": "ipython",
    "version": 3
   },
   "file_extension": ".py",
   "mimetype": "text/x-python",
   "name": "python",
   "nbconvert_exporter": "python",
   "pygments_lexer": "ipython3",
   "version": "3.9.13"
  }
 },
 "nbformat": 4,
 "nbformat_minor": 4
}
