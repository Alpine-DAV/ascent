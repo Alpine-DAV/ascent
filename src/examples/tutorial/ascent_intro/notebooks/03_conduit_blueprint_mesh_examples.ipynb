{
 "cells": [
  {
   "cell_type": "markdown",
   "metadata": {},
   "source": [
    "# Conduit Mesh Blueprint Examples\n",
    "Simulation mesh data is passed to Ascent using a shared set of conventions called the\n",
    "[Mesh Blueprint] (https://llnl-conduit.readthedocs.io/en/latest/blueprint_mesh.html).\n",
    "\n",
    "Simply described, these conventions outline a structure to follow to create Conduit trees \n",
    "that can represent a wide range of simulation mesh types (uniform grids, unstructured meshes, etc). Conduit's dynamic tree and zero-copy support make it easy to adapt existing data to conform to the Mesh Blueprint for use in tools like Ascent.\n",
    "\n",
    "These examples outline how to create Conduit Nodes that describe simple single domain meshes and review\n",
    "some of Conduits built-in mesh examples. More Mesh Blueprint examples are also detailed in Conduit's [Mesh Blueprint Examples Docs](https://llnl-conduit.readthedocs.io/en/latest/blueprint_mesh.html#examples)."
   ]
  },
  {
   "cell_type": "code",
   "execution_count": null,
   "metadata": {},
   "outputs": [],
   "source": [
    "# conduit + ascent imports\n",
    "import conduit\n",
    "import conduit.blueprint\n",
    "import ascent\n",
    "\n",
    "import math\n",
    "import numpy as np\n",
    "\n",
    "# cleanup any old results\n",
    "!./cleanup.sh"
   ]
  },
  {
   "cell_type": "markdown",
   "metadata": {},
   "source": [
    "## Mesh Blueprint Example 1\n",
    "### Creating a uniform grid with a single field"
   ]
  },
  {
   "cell_type": "code",
   "execution_count": null,
   "metadata": {},
   "outputs": [],
   "source": [
    "#\n",
    "# Create a 3D mesh defined on a uniform grid of points\n",
    "# with a single vertex associated field named `alternating`\n",
    "#\n",
    "\n",
    "mesh = conduit.Node()\n",
    "\n",
    "# create the coordinate set\n",
    "num_per_dim = 9\n",
    "mesh[\"coordsets/coords/type\"] = \"uniform\";\n",
    "mesh[\"coordsets/coords/dims/i\"] = num_per_dim\n",
    "mesh[\"coordsets/coords/dims/j\"] = num_per_dim\n",
    "mesh[\"coordsets/coords/dims/k\"] = num_per_dim\n",
    "\n",
    "# add origin and spacing to the coordset (optional)\n",
    "mesh[\"coordsets/coords/origin/x\"] = -10.0\n",
    "mesh[\"coordsets/coords/origin/y\"] = -10.0\n",
    "mesh[\"coordsets/coords/origin/z\"] = -10.0\n",
    "\n",
    "distance_per_step = 20.0/(num_per_dim-1)\n",
    "\n",
    "mesh[\"coordsets/coords/spacing/dx\"] = distance_per_step\n",
    "mesh[\"coordsets/coords/spacing/dy\"] = distance_per_step\n",
    "mesh[\"coordsets/coords/spacing/dz\"] = distance_per_step\n",
    "\n",
    "# add the topology\n",
    "# this case is simple b/c it's implicitly derived from the coordinate set\n",
    "mesh[\"topologies/topo/type\"] = \"uniform\";\n",
    "# reference the coordinate set by name\n",
    "mesh[\"topologies/topo/coordset\"] = \"coords\";\n",
    "\n",
    "# create a vertex associated field named alternating\n",
    "num_vertices = num_per_dim * num_per_dim * num_per_dim\n",
    "vals = np.zeros(num_vertices,dtype=np.float32)\n",
    "for i in range(num_vertices):\n",
    "    if i%2:\n",
    "        vals[i] = 0.0\n",
    "    else:\n",
    "        vals[i] = 1.0\n",
    "mesh[\"fields/alternating/association\"] = \"vertex\";\n",
    "mesh[\"fields/alternating/topology\"] = \"topo\";\n",
    "mesh[\"fields/alternating/values\"].set_external(vals)"
   ]
  },
  {
   "cell_type": "code",
   "execution_count": null,
   "metadata": {},
   "outputs": [],
   "source": [
    "# print the mesh we created\n",
    "print(mesh.to_yaml())"
   ]
  },
  {
   "cell_type": "code",
   "execution_count": null,
   "metadata": {},
   "outputs": [],
   "source": [
    "# make sure the mesh we created conforms to the blueprint\n",
    "verify_info = conduit.Node()\n",
    "if not conduit.blueprint.mesh.verify(mesh,verify_info):\n",
    "    print(\"Mesh Verify failed!\")\n",
    "    print(verify_info.to_yaml())\n",
    "else:\n",
    "    print(\"Mesh verify success!\")"
   ]
  },
  {
   "cell_type": "code",
   "execution_count": null,
   "metadata": {},
   "outputs": [],
   "source": [
    "# now lets look at the mesh with Ascent\n",
    "a = ascent.Ascent()\n",
    "a.open()\n",
    "\n",
    "# publish mesh to ascent\n",
    "a.publish(mesh)\n",
    "\n",
    "# setup actions\n",
    "actions = conduit.Node()\n",
    "add_act = actions.append();\n",
    "add_act[\"action\"] = \"add_scenes\";\n",
    "\n",
    "# declare a scene (s1) with one plot (p1) \n",
    "# to render the dataset\n",
    "scenes = add_act[\"scenes\"]\n",
    "scenes[\"s1/plots/p1/type\"] = \"pseudocolor\"\n",
    "scenes[\"s1/plots/p1/field\"] = \"alternating\"\n",
    "# Set the output file name (ascent will add \".png\")\n",
    "scenes[\"s1/image_name\"] = \"out_ascent_render_uniform\"\n",
    "\n",
    "# print our full actions tree\n",
    "print(actions.to_yaml())\n",
    "\n",
    "# execute the actions\n",
    "a.execute(actions)"
   ]
  },
  {
   "cell_type": "code",
   "execution_count": null,
   "metadata": {},
   "outputs": [],
   "source": [
    "# show the result using the AscentViewer widget\n",
    "ascent.jupyter.AscentViewer(a).show()"
   ]
  },
  {
   "cell_type": "code",
   "execution_count": null,
   "metadata": {},
   "outputs": [],
   "source": [
    "# close ascent\n",
    "a.close()"
   ]
  },
  {
   "cell_type": "markdown",
   "metadata": {},
   "source": [
    "## Mesh Blueprint Example 2\n",
    "### Creating an unstructured tet mesh with fields"
   ]
  },
  {
   "cell_type": "code",
   "execution_count": null,
   "metadata": {},
   "outputs": [],
   "source": [
    "#\n",
    "# Create a 3D mesh defined on an explicit set of points,\n",
    "# composed of two tets, with two element associated fields\n",
    "#  (`var1` and `var2`)\n",
    "#\n",
    "\n",
    "mesh = conduit.Node()\n",
    "\n",
    "# create an explicit coordinate set\n",
    "x = np.array( [-1.0, 0.0, 0.0, 0.0, 1.0 ], dtype=np.float64 )\n",
    "y = np.array( [0.0, -1.0, 0.0, 1.0, 0.0 ], dtype=np.float64 )\n",
    "z = np.array( [ 0.0, 0.0, 1.0, 0.0, 0.0 ], dtype=np.float64 )\n",
    "\n",
    "mesh[\"coordsets/coords/type\"] = \"explicit\";\n",
    "mesh[\"coordsets/coords/values/x\"].set_external(x)\n",
    "mesh[\"coordsets/coords/values/y\"].set_external(y)\n",
    "mesh[\"coordsets/coords/values/z\"].set_external(z)\n",
    "\n",
    "# add an unstructured topology\n",
    "mesh[\"topologies/mesh/type\"] = \"unstructured\"\n",
    "# reference the coordinate set by name\n",
    "mesh[\"topologies/mesh/coordset\"] = \"coords\"\n",
    "# set topology shape type\n",
    "mesh[\"topologies/mesh/elements/shape\"] = \"tet\"\n",
    "# add a connectivity array for the tets\n",
    "connectivity = np.array([0, 1, 3, 2, 4, 3, 1, 2 ],dtype=np.int64)\n",
    "mesh[\"topologies/mesh/elements/connectivity\"].set_external(connectivity)\n",
    "    \n",
    "var1 = np.array([0,1],dtype=np.float32)\n",
    "var2 = np.array([1,0],dtype=np.float32)\n",
    "\n",
    "# create a field named var1\n",
    "mesh[\"fields/var1/association\"] = \"element\"\n",
    "mesh[\"fields/var1/topology\"] = \"mesh\"\n",
    "mesh[\"fields/var1/values\"].set_external(var1)\n",
    "\n",
    "# create a field named var2\n",
    "mesh[\"fields/var2/association\"] = \"element\"\n",
    "mesh[\"fields/var2/topology\"] = \"mesh\"\n",
    "mesh[\"fields/var2/values\"].set_external(var2)"
   ]
  },
  {
   "cell_type": "code",
   "execution_count": null,
   "metadata": {},
   "outputs": [],
   "source": [
    "# print the mesh we created\n",
    "print(mesh.to_yaml())"
   ]
  },
  {
   "cell_type": "code",
   "execution_count": null,
   "metadata": {},
   "outputs": [],
   "source": [
    "# make sure the mesh we created conforms to the blueprint\n",
    "verify_info = conduit.Node()\n",
    "if not conduit.blueprint.mesh.verify(mesh,verify_info):\n",
    "    print(\"Mesh Verify failed!\")\n",
    "    print(verify_info.to_yaml())\n",
    "else:\n",
    "    print(\"Mesh verify success!\")"
   ]
  },
  {
   "cell_type": "code",
   "execution_count": null,
   "metadata": {},
   "outputs": [],
   "source": [
    "# now lets look at the mesh with Ascent\n",
    "a = ascent.Ascent()\n",
    "a.open()\n",
    "\n",
    "# publish mesh to ascent\n",
    "a.publish(mesh)\n",
    "\n",
    "# setup actions\n",
    "actions = conduit.Node()\n",
    "add_act = actions.append();\n",
    "add_act[\"action\"] = \"add_scenes\"\n",
    "\n",
    "# declare a scene (s1) with one plot (p1) \n",
    "# to render the dataset\n",
    "scenes = add_act[\"scenes\"]\n",
    "scenes[\"s1/plots/p1/type\"] = \"pseudocolor\"\n",
    "scenes[\"s1/plots/p1/field\"] = \"var1\"\n",
    "# Set the output file name (ascent will add \".png\")\n",
    "scenes[\"s1/image_name\"] = \"out_ascent_render_tets\"\n",
    "\n",
    "# print our full actions tree\n",
    "print(actions.to_yaml())\n",
    "\n",
    "# execute the actions\n",
    "a.execute(actions)"
   ]
  },
  {
   "cell_type": "code",
   "execution_count": null,
   "metadata": {},
   "outputs": [],
   "source": [
    "# show the result using the AscentViewer widget\n",
    "ascent.jupyter.AscentViewer(a).show()"
   ]
  },
  {
   "cell_type": "code",
   "execution_count": null,
   "metadata": {},
   "outputs": [],
   "source": [
    "# close ascent\n",
    "a.close()"
   ]
  },
  {
   "cell_type": "markdown",
   "metadata": {},
   "source": [
    "## Mesh Blueprint Example 3\n",
    "### Experimenting with the built-in braid example\n",
    "Related docs: [Braid Example Docs](https://llnl-conduit.readthedocs.io/en/latest/blueprint_mesh.html#braid)"
   ]
  },
  {
   "cell_type": "code",
   "execution_count": null,
   "metadata": {},
   "outputs": [],
   "source": [
    "# The conduit blueprint library provides several \n",
    "# simple builtin examples that cover the range of\n",
    "# supported coordinate sets, topologies, field etc\n",
    "# \n",
    "# Here we create a mesh using the braid example\n",
    "# (https://llnl-conduit.readthedocs.io/en/latest/blueprint_mesh.html#braid)\n",
    "# and modify one of its fields to create a time-varying\n",
    "# example\n",
    "\n",
    "# Define a function that will calcualte a time varying field\n",
    "def braid_time_varying(npts_x, npts_y, npts_z, interp, res):\n",
    "    if npts_z < 1:\n",
    "        npts_z = 1\n",
    "\n",
    "    npts = npts_x * npts_y * npts_z\n",
    "    \n",
    "    res[\"association\"] = \"vertex\"\n",
    "    res[\"topology\"] = \"mesh\"\n",
    "    vals = res[\"values\"]\n",
    "    \n",
    "    dx_seed_start = 0.0\n",
    "    dx_seed_end   = 5.0\n",
    "    dx_seed = interp * (dx_seed_end - dx_seed_start) + dx_seed_start\n",
    "    \n",
    "    dy_seed_start = 0.0\n",
    "    dy_seed_end   = 2.0\n",
    "    dy_seed = interp * (dy_seed_end - dy_seed_start) + dy_seed_start\n",
    "    \n",
    "    dz_seed = 3.0\n",
    "\n",
    "    dx = (float) (dx_seed * math.pi) / float(npts_x - 1)\n",
    "    dy = (float) (dy_seed * math.pi) / float(npts_y-1)\n",
    "    dz = (float) (dz_seed * math.pi) / float(npts_z-1)\n",
    "    \n",
    "    idx = 0\n",
    "    for k in range(npts_z):\n",
    "        cz =  (k * dz) - (1.5 * math.pi)\n",
    "        for j in range(npts_y):\n",
    "            cy =  (j * dy) - (math.pi)\n",
    "            for i in range(npts_x):\n",
    "                cx =  (i * dx) + (2.0 * math.pi)\n",
    "                cv =  math.sin( cx ) + \\\n",
    "                      math.sin( cy ) +  \\\n",
    "                      2.0 * math.cos(math.sqrt( (cx*cx)/2.0 +cy*cy) / .75) + \\\n",
    "                      4.0 * math.cos( cx*cy / 4.0)\n",
    "                                  \n",
    "                if npts_z > 1:\n",
    "                    cv += math.sin( cz ) + \\\n",
    "                          1.5 * math.cos(math.sqrt(cx*cx + cy*cy + cz*cz) / .75)\n",
    "                vals[idx] = cv\n",
    "                idx+=1"
   ]
  },
  {
   "cell_type": "code",
   "execution_count": null,
   "metadata": {},
   "outputs": [],
   "source": [
    "# create conduit node with an example mesh using conduit blueprint's braid function\n",
    "# ref: https://llnl-conduit.readthedocs.io/en/latest/blueprint_mesh.html#braid\n",
    "mesh = conduit.Node()\n",
    "conduit.blueprint.mesh.examples.braid(\"hexs\",\n",
    "                                      50,\n",
    "                                      50,\n",
    "                                      50,\n",
    "                                      mesh)"
   ]
  },
  {
   "cell_type": "code",
   "execution_count": null,
   "metadata": {},
   "outputs": [],
   "source": [
    "a = ascent.Ascent()\n",
    "# open ascent\n",
    "a.open()\n",
    "\n",
    "# create our actions\n",
    "actions = conduit.Node()\n",
    "add_act =actions.append()\n",
    "add_act[\"action\"] = \"add_scenes\"\n",
    "\n",
    "# declare a scene (s1) and plot (p1)\n",
    "# to render braid field \n",
    "scenes = add_act[\"scenes\"] \n",
    "scenes[\"s1/plots/p1/type\"] = \"pseudocolor\"\n",
    "scenes[\"s1/plots/p1/field\"] = \"braid\"\n",
    "\n",
    "# print our actions tree\n",
    "print(actions.to_yaml())\n",
    "\n",
    "# loop over a set of steps and \n",
    "# render a time varying version of the braid field\n",
    "nsteps = 20\n",
    "interps = np.linspace(0.0, 1.0, num=nsteps)\n",
    "i = 0\n",
    "\n",
    "for interp in interps:\n",
    "    print(\"{}: interp = {}\".format(i,interp))\n",
    "    # update the braid field\n",
    "    braid_time_varying(50,50,50,interp,mesh[\"fields/braid\"])\n",
    "    # update the mesh cycle\n",
    "    mesh[\"state/cycle\"] = i\n",
    "    # Set the output file name (ascent will add \".png\")\n",
    "    scenes[\"s1/renders/r1/image_name\"] = \"out_ascent_render_braid_tv_%04d\" % i\n",
    "    scenes[\"s1/renders/r1/camera/azimuth\"] = 25.0\n",
    "    \n",
    "    # publish mesh to ascent\n",
    "    a.publish(mesh)\n",
    "\n",
    "    # execute the actions\n",
    "    a.execute(actions)\n",
    "    \n",
    "    i+=1\n",
    "\n",
    "# close ascent\n",
    "a.close()"
   ]
  },
  {
   "cell_type": "code",
   "execution_count": null,
   "metadata": {},
   "outputs": [],
   "source": [
    "# enumerate our result renders\n",
    "result_image_files = [\"out_ascent_render_braid_tv_%04d.png\" % i for i in range(nsteps)]\n",
    "# view our results\n",
    "ascent.jupyter.AscentImageSequenceViewer(result_image_files).show()"
   ]
  },
  {
   "cell_type": "markdown",
   "metadata": {},
   "source": [
    "## Exercise\n",
    "\n",
    "Use/alter the code from Mesh Blueprint Example 1 to create a scene with two plots: two versions of the alternating field on a uniform grid -- one with an origin at (-10,-10,-10) and one with an origin at (0,0,0).\n",
    "\n",
    "**First**, add a second coordinate set to `mesh` and call it `mycoords`. `mycoords` will have the same properties as `coords` except for the difference in origin.\n",
    "\n",
    "**Second**, add a second topology to `mesh` and call it `mytopo`. `mytopo` will have the same properties as `topo` except that its coordinate set will be `mycoords` instead of `coords`.\n",
    "\n",
    "**Third**, add a second field to `mesh` and call it `myalternating`. `myalternating` will have the same properties as `alternating` except that its topology will be `mytopo` instead of `topo`.\n",
    "\n",
    "**Fourth** add a second plot (`p2`) to the scene `s1`. `p1` will still plot the field `alternating` and `p2` should plot `myalternating`.\n",
    "\n",
    "Finally, use AscentViewer to plot the result.\n",
    "\n"
   ]
  },
  {
   "cell_type": "code",
   "execution_count": null,
   "metadata": {},
   "outputs": [],
   "source": []
  },
  {
   "cell_type": "markdown",
   "metadata": {},
   "source": [
    "## Exercise solution\n",
    "Run the cell below once to see solutions and twice to run them."
   ]
  },
  {
   "cell_type": "code",
   "execution_count": null,
   "metadata": {},
   "outputs": [],
   "source": [
    "%load solutions/exercise3.py"
   ]
  }
 ],
 "metadata": {
  "kernelspec": {
   "display_name": "Python 3 (ipykernel)",
   "language": "python",
   "name": "python3"
  },
  "language_info": {
   "codemirror_mode": {
    "name": "ipython",
    "version": 3
   },
   "file_extension": ".py",
   "mimetype": "text/x-python",
   "name": "python",
   "nbconvert_exporter": "python",
   "pygments_lexer": "ipython3",
   "version": "3.9.13"
  }
 },
 "nbformat": 4,
 "nbformat_minor": 4
}
