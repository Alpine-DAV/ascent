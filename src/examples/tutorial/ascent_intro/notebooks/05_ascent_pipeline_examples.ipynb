{
 "cells": [
  {
   "cell_type": "markdown",
   "metadata": {},
   "source": [
    "# Transforming data with Pipelines\n",
    "Pipelines are the construct used to compose filters that transform the published input data into new meshes. This is where users specify typical geometric transforms (e.g., clipping and slicing), field based transforms (e.g., threshold and contour), etc. The resulting data from each Pipeline can be used as input to Scenes or Extracts. Each pipeline contains one or more filters that transform the published mesh data. See Ascent's [Pipelines](https://ascent.readthedocs.io/en/latest/Actions/Pipelines.html) docs for deeper details on Pipelines."
   ]
  },
  {
   "cell_type": "code",
   "execution_count": null,
   "metadata": {},
   "outputs": [],
   "source": [
    "# ascent + conduit imports\n",
    "import conduit\n",
    "import conduit.blueprint\n",
    "import ascent\n",
    "\n",
    "import numpy as np\n",
    "\n",
    "# cleanup any old results\n",
    "!./cleanup.sh"
   ]
  },
  {
   "cell_type": "markdown",
   "metadata": {},
   "source": [
    "### Create an example mesh to feed to Ascent"
   ]
  },
  {
   "cell_type": "code",
   "execution_count": null,
   "metadata": {},
   "outputs": [],
   "source": [
    "# create example mesh using the conduit blueprint braid helper\n",
    "mesh = conduit.Node()\n",
    "conduit.blueprint.mesh.examples.braid(\"hexs\",\n",
    "                                      25,\n",
    "                                      25,\n",
    "                                      25,\n",
    "                                      mesh)"
   ]
  },
  {
   "cell_type": "markdown",
   "metadata": {},
   "source": [
    "## Pipeline Example 1\n",
    "### Calculating and rendering contours"
   ]
  },
  {
   "cell_type": "code",
   "execution_count": null,
   "metadata": {},
   "outputs": [],
   "source": [
    "a = ascent.Ascent()\n",
    "a.open()\n",
    "\n",
    "# publish our mesh to ascent\n",
    "a.publish(mesh);\n",
    "\n",
    "# setup actions\n",
    "actions = conduit.Node()\n",
    "add_act = actions.append()\n",
    "add_act[\"action\"] = \"add_pipelines\"\n",
    "pipelines = add_act[\"pipelines\"]\n",
    "\n",
    "# create a  pipeline (pl1) with a contour filter (f1)\n",
    "pipelines[\"pl1/f1/type\"] = \"contour\"\n",
    "\n",
    "# extract contours where braid variable\n",
    "# equals 0.2 and 0.4\n",
    "contour_params = pipelines[\"pl1/f1/params\"]\n",
    "contour_params[\"field\"] = \"braid\"\n",
    "iso_vals = np.array([0.2, 0.4],dtype=np.float32)\n",
    "contour_params[\"iso_values\"].set(iso_vals)\n",
    "\n",
    "# declare a scene to render the pipeline result\n",
    "\n",
    "add_act2 = actions.append()\n",
    "add_act2[\"action\"] = \"add_scenes\"\n",
    "scenes = add_act2[\"scenes\"]\n",
    "\n",
    "# add a scene (s1) with one pseudocolor plot (p1) that \n",
    "# will render the result of our pipeline (pl1)\n",
    "scenes[\"s1/plots/p1/type\"] = \"pseudocolor\"\n",
    "scenes[\"s1/plots/p1/pipeline\"] = \"pl1\"\n",
    "scenes[\"s1/plots/p1/field\"] = \"braid\"\n",
    "# set the output file name (ascent will add \".png\")\n",
    "scenes[\"s1/image_name\"] = \"out_pipeline_ex1_contour\"\n",
    "\n",
    "# print our full actions tree\n",
    "print(actions.to_yaml())\n",
    "\n",
    "# execute the actions\n",
    "a.execute(actions)"
   ]
  },
  {
   "cell_type": "code",
   "execution_count": null,
   "metadata": {},
   "outputs": [],
   "source": [
    "# show the resulting image\n",
    "ascent.jupyter.AscentViewer(a).show()"
   ]
  },
  {
   "cell_type": "code",
   "execution_count": null,
   "metadata": {},
   "outputs": [],
   "source": [
    "#close ascent\n",
    "a.close()"
   ]
  },
  {
   "cell_type": "markdown",
   "metadata": {},
   "source": [
    "## Pipeline Example 2:\n",
    "### Combining threshold and clip transforms"
   ]
  },
  {
   "cell_type": "code",
   "execution_count": null,
   "metadata": {},
   "outputs": [],
   "source": [
    "a = ascent.Ascent()\n",
    "a.open()\n",
    "\n",
    "# publish mesh to ascent\n",
    "a.publish(mesh);\n",
    "\n",
    "# setup actions\n",
    "actions = conduit.Node()\n",
    "add_act = actions.append()\n",
    "add_act[\"action\"] = \"add_pipelines\"\n",
    "pipelines = add_act[\"pipelines\"]\n",
    "\n",
    "# create a  pipeline (pl1) with a threshold filter (f1)\n",
    "# and a clip filter (f2)\n",
    "\n",
    "# add our threshold (f1)\n",
    "pipelines[\"pl1/f1/type\"] = \"threshold\"\n",
    "thresh_params = pipelines[\"pl1/f1/params\"]\n",
    "# set threshold parameters\n",
    "# keep elements with values between 0.0 and 0.5\n",
    "thresh_params[\"field\"]  = \"braid\"\n",
    "thresh_params[\"min_value\"] = 0.0\n",
    "thresh_params[\"max_value\"] = 0.5\n",
    "\n",
    "# add our clip (f2)\n",
    "pipelines[\"pl1/f2/type\"]   = \"clip\"\n",
    "clip_params = pipelines[\"pl1/f2/params\"]\n",
    "# set clip parameters\n",
    "# use spherical clip\n",
    "clip_params[\"sphere/center/x\"] = 0.0\n",
    "clip_params[\"sphere/center/y\"] = 0.0\n",
    "clip_params[\"sphere/center/z\"] = 0.0\n",
    "clip_params[\"sphere/radius\"]   = 12\n",
    "\n",
    "#  declare a scene to render the pipeline results\n",
    "add_act2 = actions.append()\n",
    "add_act2[\"action\"] = \"add_scenes\"\n",
    "scenes = add_act2[\"scenes\"]\n",
    "\n",
    "# add a scene (s1) with one pseudocolor plot (p1) that \n",
    "# will render the result of our pipeline (pl1)\n",
    "scenes[\"s1/plots/p1/type\"] = \"pseudocolor\"\n",
    "scenes[\"s1/plots/p1/pipeline\"] = \"pl1\"\n",
    "scenes[\"s1/plots/p1/field\"] = \"braid\"\n",
    "# set the output file name (ascent will add \".png\")\n",
    "scenes[\"s1/image_name\"] = \"out_pipeline_ex2_thresh_clip\"\n",
    "\n",
    "# print our full actions tree\n",
    "print(actions.to_yaml())\n",
    "\n",
    "# execute\n",
    "a.execute(actions)"
   ]
  },
  {
   "cell_type": "code",
   "execution_count": null,
   "metadata": {},
   "outputs": [],
   "source": [
    "# show the resulting image\n",
    "ascent.jupyter.AscentViewer(a).show()"
   ]
  },
  {
   "cell_type": "code",
   "execution_count": null,
   "metadata": {},
   "outputs": [],
   "source": [
    "# close ascent\n",
    "a.close()"
   ]
  },
  {
   "cell_type": "markdown",
   "metadata": {},
   "source": [
    "## Pipeline Example 3:\n",
    "### Creating and rendering multiple pipelines"
   ]
  },
  {
   "cell_type": "code",
   "execution_count": null,
   "metadata": {},
   "outputs": [],
   "source": [
    "a = ascent.Ascent()\n",
    "a.open()\n",
    "\n",
    "# publish mesh to ascent\n",
    "a.publish(mesh);\n",
    "\n",
    "# setup actions\n",
    "actions = conduit.Node()\n",
    "add_act = actions.append()\n",
    "add_act[\"action\"] = \"add_pipelines\"\n",
    "pipelines = add_act[\"pipelines\"]\n",
    "\n",
    "# create our first pipeline (pl1) \n",
    "# with a contour filter (f1)\n",
    "pipelines[\"pl1/f1/type\"] = \"contour\"\n",
    "# extract contours where braid variable\n",
    "# equals 0.2 and 0.4\n",
    "contour_params = pipelines[\"pl1/f1/params\"]\n",
    "contour_params[\"field\"] = \"braid\"\n",
    "iso_vals = np.array([0.2, 0.4],dtype=np.float32)\n",
    "contour_params[\"iso_values\"].set(iso_vals)\n",
    "\n",
    "# create our second pipeline (pl2) with a threshold filter (f1)\n",
    "# and a clip filter (f2)\n",
    "\n",
    "# add our threshold (pl2 f1)\n",
    "pipelines[\"pl2/f1/type\"] = \"threshold\"\n",
    "thresh_params = pipelines[\"pl2/f1/params\"]\n",
    "# set threshold parameters\n",
    "# keep elements with values between 0.0 and 0.5\n",
    "thresh_params[\"field\"]  = \"braid\"\n",
    "thresh_params[\"min_value\"] = 0.0\n",
    "thresh_params[\"max_value\"] = 0.5\n",
    "\n",
    "\n",
    "# add our clip (pl2 f2)\n",
    "pipelines[\"pl2/f2/type\"]   = \"clip\"\n",
    "clip_params = pipelines[\"pl2/f2/params\"]\n",
    "# set clip parameters\n",
    "# use spherical clip\n",
    "clip_params[\"sphere/center/x\"] = 0.0\n",
    "clip_params[\"sphere/center/y\"] = 0.0\n",
    "clip_params[\"sphere/center/z\"] = 0.0\n",
    "clip_params[\"sphere/radius\"]   = 12\n",
    "\n",
    "# declare a scene to render our pipeline results\n",
    "add_act2 = actions.append()\n",
    "add_act2[\"action\"] = \"add_scenes\"\n",
    "scenes = add_act2[\"scenes\"]\n",
    "\n",
    "# add a scene (s1) with two pseudocolor plots \n",
    "# (p1 and p2) that will render the results \n",
    "# of our pipelines (pl1 and pl2)## Pipeline Example 2:\n",
    "\n",
    "# plot (p1) to render our first pipeline (pl1)\n",
    "scenes[\"s1/plots/p1/type\"] = \"pseudocolor\"\n",
    "scenes[\"s1/plots/p1/pipeline\"] = \"pl1\"\n",
    "scenes[\"s1/plots/p1/field\"] = \"braid\"\n",
    "# plot (p2) to render our second pipeline (pl2)\n",
    "scenes[\"s1/plots/p2/type\"] = \"pseudocolor\"\n",
    "scenes[\"s1/plots/p2/pipeline\"] = \"pl2\"\n",
    "scenes[\"s1/plots/p2/field\"] = \"braid\"\n",
    "# set the output file name (ascent will add \".png\")\n",
    "scenes[\"s1/image_name\"] = \"out_pipeline_ex3_two_plots\"\n",
    "\n",
    "# print our full actions tree\n",
    "print(actions.to_yaml())\n",
    "\n",
    "# execute\n",
    "a.execute(actions)"
   ]
  },
  {
   "cell_type": "code",
   "execution_count": null,
   "metadata": {},
   "outputs": [],
   "source": [
    "# show the resulting image\n",
    "ascent.jupyter.AscentViewer(a).show()"
   ]
  },
  {
   "cell_type": "code",
   "execution_count": null,
   "metadata": {},
   "outputs": [],
   "source": [
    "# close ascent\n",
    "a.close()"
   ]
  },
  {
   "cell_type": "markdown",
   "metadata": {},
   "source": [
    "## Exercise\n",
    "\n",
    "Use and refactor the code in Pipeline Example 3.\n",
    "\n",
    "**First** break the second pipeline `pl2` with two filters into two pipelines (`pl2` and `pl3`) -- one with a single filter each. \n",
    "\n",
    "**Second** create separate plots in `s1` for each of the three pipelines.\n",
    "\n",
    "You should end with a single scene and three plots that you can toggle between."
   ]
  },
  {
   "cell_type": "code",
   "execution_count": null,
   "metadata": {},
   "outputs": [],
   "source": []
  },
  {
   "cell_type": "markdown",
   "metadata": {},
   "source": [
    "## Exercise solution\n",
    "Run the cell below once to see solutions and twice to run them."
   ]
  },
  {
   "cell_type": "code",
   "execution_count": null,
   "metadata": {},
   "outputs": [],
   "source": [
    "%load solutions/exercise5.py"
   ]
  }
 ],
 "metadata": {
  "kernelspec": {
   "display_name": "Python 3 (ipykernel)",
   "language": "python",
   "name": "python3"
  },
  "language_info": {
   "codemirror_mode": {
    "name": "ipython",
    "version": 3
   },
   "file_extension": ".py",
   "mimetype": "text/x-python",
   "name": "python",
   "nbconvert_exporter": "python",
   "pygments_lexer": "ipython3",
   "version": "3.9.13"
  }
 },
 "nbformat": 4,
 "nbformat_minor": 4
}
